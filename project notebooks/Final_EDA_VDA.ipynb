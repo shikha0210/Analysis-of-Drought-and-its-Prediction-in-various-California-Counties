{
 "cells": [
  {
   "cell_type": "code",
   "execution_count": null,
   "metadata": {},
   "outputs": [],
   "source": [
    "# import pandas and numpy\n",
    "import pandas as pd\n",
    "import numpy as np"
   ]
  },
  {
   "cell_type": "code",
   "execution_count": null,
   "metadata": {},
   "outputs": [],
   "source": [
    "# importing California drought dataset\n",
    "cal_drought_data = pd.read_csv('drought dataset/full_dataset_CA_sorted.csv')\n",
    "\n",
    "# drop the unnecessary column\n",
    "cal_drought_data = cal_drought_data.drop(columns=['Unnamed: 0'])\n",
    "\n",
    "# view first 5 and last 5 rows of the dataset\n",
    "print(cal_drought_data.head())\n",
    "print(cal_drought_data.tail())"
   ]
  },
  {
   "cell_type": "code",
   "execution_count": null,
   "metadata": {},
   "outputs": [],
   "source": [
    "# import soil data\n",
    "soil_data = pd.read_csv('drought dataset/soil_data.csv')\n",
    "print(soil_data.head())"
   ]
  },
  {
   "cell_type": "code",
   "execution_count": null,
   "metadata": {},
   "outputs": [],
   "source": [
    "# view column names of the dataset\n",
    "print(cal_drought_data.columns)\n",
    "\n",
    "# view shape of the dataset\n",
    "print(cal_drought_data.shape)"
   ]
  },
  {
   "cell_type": "code",
   "execution_count": null,
   "metadata": {},
   "outputs": [],
   "source": [
    "# view summary statistics of the dataset\n",
    "print(cal_drought_data.info())"
   ]
  },
  {
   "cell_type": "code",
   "execution_count": null,
   "metadata": {},
   "outputs": [],
   "source": [
    "print(cal_drought_data.describe())"
   ]
  },
  {
   "cell_type": "code",
   "execution_count": null,
   "metadata": {},
   "outputs": [],
   "source": [
    "# import matplotlib\n",
    "import matplotlib.pyplot as plt"
   ]
  },
  {
   "cell_type": "code",
   "execution_count": null,
   "metadata": {},
   "outputs": [],
   "source": [
    "# plot histograms of all the columns of the dataset\n",
    "# to see value distribution of all 18 features and drought intensities\n",
    "cal_drought_data.hist(figsize=(20,20))\n",
    "plt.show()"
   ]
  },
  {
   "cell_type": "code",
   "execution_count": null,
   "metadata": {},
   "outputs": [],
   "source": [
    "# plot box and whiskers plot to view outliers\n",
    "cal_drought_data.plot(kind='box',figsize=(200,10),subplots=True,sharex=False,sharey=False)\n",
    "plt.show()"
   ]
  },
  {
   "cell_type": "code",
   "execution_count": null,
   "metadata": {},
   "outputs": [],
   "source": [
    "# import seaborn\n",
    "import seaborn as sns"
   ]
  },
  {
   "cell_type": "code",
   "execution_count": null,
   "metadata": {},
   "outputs": [],
   "source": [
    "# view distribution plot of drought intensities with seaborn\n",
    "sns.distplot(cal_drought_data['score'])"
   ]
  },
  {
   "cell_type": "code",
   "execution_count": null,
   "metadata": {},
   "outputs": [],
   "source": [
    "# view drought intensities trend for a particular county overtime \n",
    "d1 = cal_drought_data[cal_drought_data['fips']==6001]\n",
    "sns.lineplot(x='date',y='score',data=d1)"
   ]
  },
  {
   "cell_type": "code",
   "execution_count": null,
   "metadata": {},
   "outputs": [],
   "source": [
    "# plot violinplot for all 18 features and drought intensities\n",
    "# make a list of required column names\n",
    "col_n = list(cal_drought_data.drop(columns=['fips','date']).columns)\n",
    "\n",
    "# define a figure and axis object\n",
    "fig, ax = plt.subplots(19,figsize=(5,95))\n",
    "\n",
    "# define a counter\n",
    "c = 0\n",
    "\n",
    "# run a loop to plot violinplot for each column of california drought dataset listed in 'col_n'\n",
    "for col in col_n:\n",
    "    ax[c].violinplot(cal_drought_data[col])\n",
    "    c = c+1\n",
    "plt.show()"
   ]
  }
 ],
 "metadata": {
  "kernelspec": {
   "display_name": "Python 3",
   "language": "python",
   "name": "python3"
  },
  "language_info": {
   "codemirror_mode": {
    "name": "ipython",
    "version": 3
   },
   "file_extension": ".py",
   "mimetype": "text/x-python",
   "name": "python",
   "nbconvert_exporter": "python",
   "pygments_lexer": "ipython3",
   "version": "3.8.3"
  }
 },
 "nbformat": 4,
 "nbformat_minor": 4
}
