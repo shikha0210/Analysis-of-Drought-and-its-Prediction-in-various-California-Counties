{
 "cells": [
  {
   "cell_type": "code",
   "execution_count": 1,
   "metadata": {},
   "outputs": [],
   "source": [
    "# importing required dependencies\n",
    "import pandas as pd\n",
    "import numpy as np\n",
    "from numpy.random import seed\n",
    "from numpy import mean\n",
    "from numpy import std\n",
    "import matplotlib.pyplot as plt\n",
    "import sklearn as sk\n",
    "from sklearn import svm\n",
    "from sklearn.svm import SVC\n",
    "from sklearn.linear_model import LogisticRegression\n",
    "from sklearn import preprocessing\n",
    "from sklearn import utils\n",
    "from sklearn.preprocessing import MinMaxScaler\n",
    "from sklearn.model_selection import train_test_split\n",
    "from sklearn.metrics import classification_report\n",
    "from sklearn.model_selection import cross_val_score\n",
    "from sklearn.model_selection import StratifiedKFold\n",
    "from sklearn.pipeline import Pipeline\n",
    "from sklearn.neighbors import KNeighborsClassifier\n",
    "from xgboost import XGBClassifier\n",
    "from sklearn.ensemble import RandomForestClassifier\n",
    "from sklearn.neighbors import LocalOutlierFactor\n",
    "from sklearn.metrics import f1_score,accuracy_score,classification_report\n",
    "import seaborn as sns\n",
    "seed(1)"
   ]
  },
  {
   "cell_type": "code",
   "execution_count": 2,
   "metadata": {},
   "outputs": [
    {
     "data": {
      "text/html": [
       "<div>\n",
       "<style scoped>\n",
       "    .dataframe tbody tr th:only-of-type {\n",
       "        vertical-align: middle;\n",
       "    }\n",
       "\n",
       "    .dataframe tbody tr th {\n",
       "        vertical-align: top;\n",
       "    }\n",
       "\n",
       "    .dataframe thead th {\n",
       "        text-align: right;\n",
       "    }\n",
       "</style>\n",
       "<table border=\"1\" class=\"dataframe\">\n",
       "  <thead>\n",
       "    <tr style=\"text-align: right;\">\n",
       "      <th></th>\n",
       "      <th>fips</th>\n",
       "      <th>PRECTOT</th>\n",
       "      <th>PS</th>\n",
       "      <th>QV2M</th>\n",
       "      <th>T2M</th>\n",
       "      <th>T2MDEW</th>\n",
       "      <th>T2MWET</th>\n",
       "      <th>T2M_MAX</th>\n",
       "      <th>T2M_MIN</th>\n",
       "      <th>T2M_RANGE</th>\n",
       "      <th>TS</th>\n",
       "      <th>WS10M</th>\n",
       "      <th>WS10M_MAX</th>\n",
       "      <th>WS10M_MIN</th>\n",
       "      <th>WS10M_RANGE</th>\n",
       "      <th>WS50M</th>\n",
       "      <th>WS50M_MAX</th>\n",
       "      <th>WS50M_MIN</th>\n",
       "      <th>WS50M_RANGE</th>\n",
       "      <th>score</th>\n",
       "    </tr>\n",
       "  </thead>\n",
       "  <tbody>\n",
       "    <tr>\n",
       "      <th>0</th>\n",
       "      <td>6001.0</td>\n",
       "      <td>0.196000</td>\n",
       "      <td>100.487000</td>\n",
       "      <td>5.158000</td>\n",
       "      <td>7.692000</td>\n",
       "      <td>3.782000</td>\n",
       "      <td>3.810000</td>\n",
       "      <td>13.969000</td>\n",
       "      <td>3.687000</td>\n",
       "      <td>10.283000</td>\n",
       "      <td>7.392000</td>\n",
       "      <td>2.666000</td>\n",
       "      <td>4.207000</td>\n",
       "      <td>1.488000</td>\n",
       "      <td>2.719000</td>\n",
       "      <td>4.001000</td>\n",
       "      <td>5.938000</td>\n",
       "      <td>2.173000</td>\n",
       "      <td>3.766000</td>\n",
       "      <td>0.6079</td>\n",
       "    </tr>\n",
       "    <tr>\n",
       "      <th>1</th>\n",
       "      <td>6001.0</td>\n",
       "      <td>1.709412</td>\n",
       "      <td>100.257059</td>\n",
       "      <td>5.701765</td>\n",
       "      <td>8.592941</td>\n",
       "      <td>5.245294</td>\n",
       "      <td>5.262941</td>\n",
       "      <td>14.011176</td>\n",
       "      <td>4.871765</td>\n",
       "      <td>9.138824</td>\n",
       "      <td>8.114706</td>\n",
       "      <td>2.854706</td>\n",
       "      <td>4.770588</td>\n",
       "      <td>1.411765</td>\n",
       "      <td>3.357647</td>\n",
       "      <td>4.334118</td>\n",
       "      <td>6.690000</td>\n",
       "      <td>2.225294</td>\n",
       "      <td>4.465294</td>\n",
       "      <td>0.5036</td>\n",
       "    </tr>\n",
       "    <tr>\n",
       "      <th>2</th>\n",
       "      <td>6001.0</td>\n",
       "      <td>5.068333</td>\n",
       "      <td>100.105833</td>\n",
       "      <td>6.274583</td>\n",
       "      <td>9.290833</td>\n",
       "      <td>6.589167</td>\n",
       "      <td>6.601667</td>\n",
       "      <td>14.182917</td>\n",
       "      <td>5.894167</td>\n",
       "      <td>8.288750</td>\n",
       "      <td>8.776250</td>\n",
       "      <td>2.808750</td>\n",
       "      <td>4.680000</td>\n",
       "      <td>1.409583</td>\n",
       "      <td>3.270417</td>\n",
       "      <td>4.319583</td>\n",
       "      <td>6.540833</td>\n",
       "      <td>2.277500</td>\n",
       "      <td>4.263333</td>\n",
       "      <td>0.0000</td>\n",
       "    </tr>\n",
       "    <tr>\n",
       "      <th>3</th>\n",
       "      <td>6001.0</td>\n",
       "      <td>4.312581</td>\n",
       "      <td>100.076129</td>\n",
       "      <td>6.227097</td>\n",
       "      <td>9.242903</td>\n",
       "      <td>6.543226</td>\n",
       "      <td>6.553871</td>\n",
       "      <td>14.189677</td>\n",
       "      <td>5.745484</td>\n",
       "      <td>8.443871</td>\n",
       "      <td>8.753548</td>\n",
       "      <td>2.783871</td>\n",
       "      <td>4.532903</td>\n",
       "      <td>1.407419</td>\n",
       "      <td>3.124839</td>\n",
       "      <td>4.286129</td>\n",
       "      <td>6.458065</td>\n",
       "      <td>2.277419</td>\n",
       "      <td>4.180968</td>\n",
       "      <td>0.0000</td>\n",
       "    </tr>\n",
       "    <tr>\n",
       "      <th>4</th>\n",
       "      <td>6001.0</td>\n",
       "      <td>3.762632</td>\n",
       "      <td>100.067105</td>\n",
       "      <td>6.358947</td>\n",
       "      <td>9.557368</td>\n",
       "      <td>6.895263</td>\n",
       "      <td>6.903947</td>\n",
       "      <td>14.776316</td>\n",
       "      <td>5.984211</td>\n",
       "      <td>8.791579</td>\n",
       "      <td>8.990000</td>\n",
       "      <td>2.743158</td>\n",
       "      <td>4.506579</td>\n",
       "      <td>1.361316</td>\n",
       "      <td>3.144474</td>\n",
       "      <td>4.222368</td>\n",
       "      <td>6.416842</td>\n",
       "      <td>2.210263</td>\n",
       "      <td>4.207105</td>\n",
       "      <td>0.0000</td>\n",
       "    </tr>\n",
       "  </tbody>\n",
       "</table>\n",
       "</div>"
      ],
      "text/plain": [
       "     fips   PRECTOT          PS      QV2M       T2M    T2MDEW    T2MWET  \\\n",
       "0  6001.0  0.196000  100.487000  5.158000  7.692000  3.782000  3.810000   \n",
       "1  6001.0  1.709412  100.257059  5.701765  8.592941  5.245294  5.262941   \n",
       "2  6001.0  5.068333  100.105833  6.274583  9.290833  6.589167  6.601667   \n",
       "3  6001.0  4.312581  100.076129  6.227097  9.242903  6.543226  6.553871   \n",
       "4  6001.0  3.762632  100.067105  6.358947  9.557368  6.895263  6.903947   \n",
       "\n",
       "     T2M_MAX   T2M_MIN  T2M_RANGE        TS     WS10M  WS10M_MAX  WS10M_MIN  \\\n",
       "0  13.969000  3.687000  10.283000  7.392000  2.666000   4.207000   1.488000   \n",
       "1  14.011176  4.871765   9.138824  8.114706  2.854706   4.770588   1.411765   \n",
       "2  14.182917  5.894167   8.288750  8.776250  2.808750   4.680000   1.409583   \n",
       "3  14.189677  5.745484   8.443871  8.753548  2.783871   4.532903   1.407419   \n",
       "4  14.776316  5.984211   8.791579  8.990000  2.743158   4.506579   1.361316   \n",
       "\n",
       "   WS10M_RANGE     WS50M  WS50M_MAX  WS50M_MIN  WS50M_RANGE   score  \n",
       "0     2.719000  4.001000   5.938000   2.173000     3.766000  0.6079  \n",
       "1     3.357647  4.334118   6.690000   2.225294     4.465294  0.5036  \n",
       "2     3.270417  4.319583   6.540833   2.277500     4.263333  0.0000  \n",
       "3     3.124839  4.286129   6.458065   2.277419     4.180968  0.0000  \n",
       "4     3.144474  4.222368   6.416842   2.210263     4.207105  0.0000  "
      ]
     },
     "execution_count": 2,
     "metadata": {},
     "output_type": "execute_result"
    }
   ],
   "source": [
    "# importing the 90 days aggregated california dataset\n",
    "cal_90d_agg = pd.read_csv('drought dataset/ninety_days_aggregated_data_ca_drought.csv')\n",
    "\n",
    "# drop unnecessary column\n",
    "cal_90d_agg = cal_90d_agg.drop(columns=['Unnamed: 0'])\n",
    "\n",
    "# view the first 5 rows of the dataset\n",
    "cal_90d_agg.head()"
   ]
  },
  {
   "cell_type": "code",
   "execution_count": 3,
   "metadata": {},
   "outputs": [
    {
     "data": {
      "text/html": [
       "<div>\n",
       "<style scoped>\n",
       "    .dataframe tbody tr th:only-of-type {\n",
       "        vertical-align: middle;\n",
       "    }\n",
       "\n",
       "    .dataframe tbody tr th {\n",
       "        vertical-align: top;\n",
       "    }\n",
       "\n",
       "    .dataframe thead th {\n",
       "        text-align: right;\n",
       "    }\n",
       "</style>\n",
       "<table border=\"1\" class=\"dataframe\">\n",
       "  <thead>\n",
       "    <tr style=\"text-align: right;\">\n",
       "      <th></th>\n",
       "      <th>PRECTOT</th>\n",
       "      <th>PS</th>\n",
       "      <th>QV2M</th>\n",
       "      <th>T2M</th>\n",
       "      <th>T2MDEW</th>\n",
       "      <th>T2MWET</th>\n",
       "      <th>T2M_MAX</th>\n",
       "      <th>T2M_MIN</th>\n",
       "      <th>T2M_RANGE</th>\n",
       "      <th>TS</th>\n",
       "      <th>WS10M</th>\n",
       "      <th>WS10M_MAX</th>\n",
       "      <th>WS10M_MIN</th>\n",
       "      <th>WS10M_RANGE</th>\n",
       "      <th>WS50M</th>\n",
       "      <th>WS50M_MAX</th>\n",
       "      <th>WS50M_MIN</th>\n",
       "      <th>WS50M_RANGE</th>\n",
       "    </tr>\n",
       "  </thead>\n",
       "  <tbody>\n",
       "    <tr>\n",
       "      <th>0</th>\n",
       "      <td>0.196000</td>\n",
       "      <td>100.487000</td>\n",
       "      <td>5.158000</td>\n",
       "      <td>7.692000</td>\n",
       "      <td>3.782000</td>\n",
       "      <td>3.810000</td>\n",
       "      <td>13.969000</td>\n",
       "      <td>3.687000</td>\n",
       "      <td>10.283000</td>\n",
       "      <td>7.392000</td>\n",
       "      <td>2.666000</td>\n",
       "      <td>4.207000</td>\n",
       "      <td>1.488000</td>\n",
       "      <td>2.719000</td>\n",
       "      <td>4.001000</td>\n",
       "      <td>5.938000</td>\n",
       "      <td>2.173000</td>\n",
       "      <td>3.766000</td>\n",
       "    </tr>\n",
       "    <tr>\n",
       "      <th>1</th>\n",
       "      <td>1.709412</td>\n",
       "      <td>100.257059</td>\n",
       "      <td>5.701765</td>\n",
       "      <td>8.592941</td>\n",
       "      <td>5.245294</td>\n",
       "      <td>5.262941</td>\n",
       "      <td>14.011176</td>\n",
       "      <td>4.871765</td>\n",
       "      <td>9.138824</td>\n",
       "      <td>8.114706</td>\n",
       "      <td>2.854706</td>\n",
       "      <td>4.770588</td>\n",
       "      <td>1.411765</td>\n",
       "      <td>3.357647</td>\n",
       "      <td>4.334118</td>\n",
       "      <td>6.690000</td>\n",
       "      <td>2.225294</td>\n",
       "      <td>4.465294</td>\n",
       "    </tr>\n",
       "    <tr>\n",
       "      <th>2</th>\n",
       "      <td>5.068333</td>\n",
       "      <td>100.105833</td>\n",
       "      <td>6.274583</td>\n",
       "      <td>9.290833</td>\n",
       "      <td>6.589167</td>\n",
       "      <td>6.601667</td>\n",
       "      <td>14.182917</td>\n",
       "      <td>5.894167</td>\n",
       "      <td>8.288750</td>\n",
       "      <td>8.776250</td>\n",
       "      <td>2.808750</td>\n",
       "      <td>4.680000</td>\n",
       "      <td>1.409583</td>\n",
       "      <td>3.270417</td>\n",
       "      <td>4.319583</td>\n",
       "      <td>6.540833</td>\n",
       "      <td>2.277500</td>\n",
       "      <td>4.263333</td>\n",
       "    </tr>\n",
       "    <tr>\n",
       "      <th>3</th>\n",
       "      <td>4.312581</td>\n",
       "      <td>100.076129</td>\n",
       "      <td>6.227097</td>\n",
       "      <td>9.242903</td>\n",
       "      <td>6.543226</td>\n",
       "      <td>6.553871</td>\n",
       "      <td>14.189677</td>\n",
       "      <td>5.745484</td>\n",
       "      <td>8.443871</td>\n",
       "      <td>8.753548</td>\n",
       "      <td>2.783871</td>\n",
       "      <td>4.532903</td>\n",
       "      <td>1.407419</td>\n",
       "      <td>3.124839</td>\n",
       "      <td>4.286129</td>\n",
       "      <td>6.458065</td>\n",
       "      <td>2.277419</td>\n",
       "      <td>4.180968</td>\n",
       "    </tr>\n",
       "    <tr>\n",
       "      <th>4</th>\n",
       "      <td>3.762632</td>\n",
       "      <td>100.067105</td>\n",
       "      <td>6.358947</td>\n",
       "      <td>9.557368</td>\n",
       "      <td>6.895263</td>\n",
       "      <td>6.903947</td>\n",
       "      <td>14.776316</td>\n",
       "      <td>5.984211</td>\n",
       "      <td>8.791579</td>\n",
       "      <td>8.990000</td>\n",
       "      <td>2.743158</td>\n",
       "      <td>4.506579</td>\n",
       "      <td>1.361316</td>\n",
       "      <td>3.144474</td>\n",
       "      <td>4.222368</td>\n",
       "      <td>6.416842</td>\n",
       "      <td>2.210263</td>\n",
       "      <td>4.207105</td>\n",
       "    </tr>\n",
       "  </tbody>\n",
       "</table>\n",
       "</div>"
      ],
      "text/plain": [
       "    PRECTOT          PS      QV2M       T2M    T2MDEW    T2MWET    T2M_MAX  \\\n",
       "0  0.196000  100.487000  5.158000  7.692000  3.782000  3.810000  13.969000   \n",
       "1  1.709412  100.257059  5.701765  8.592941  5.245294  5.262941  14.011176   \n",
       "2  5.068333  100.105833  6.274583  9.290833  6.589167  6.601667  14.182917   \n",
       "3  4.312581  100.076129  6.227097  9.242903  6.543226  6.553871  14.189677   \n",
       "4  3.762632  100.067105  6.358947  9.557368  6.895263  6.903947  14.776316   \n",
       "\n",
       "    T2M_MIN  T2M_RANGE        TS     WS10M  WS10M_MAX  WS10M_MIN  WS10M_RANGE  \\\n",
       "0  3.687000  10.283000  7.392000  2.666000   4.207000   1.488000     2.719000   \n",
       "1  4.871765   9.138824  8.114706  2.854706   4.770588   1.411765     3.357647   \n",
       "2  5.894167   8.288750  8.776250  2.808750   4.680000   1.409583     3.270417   \n",
       "3  5.745484   8.443871  8.753548  2.783871   4.532903   1.407419     3.124839   \n",
       "4  5.984211   8.791579  8.990000  2.743158   4.506579   1.361316     3.144474   \n",
       "\n",
       "      WS50M  WS50M_MAX  WS50M_MIN  WS50M_RANGE  \n",
       "0  4.001000   5.938000   2.173000     3.766000  \n",
       "1  4.334118   6.690000   2.225294     4.465294  \n",
       "2  4.319583   6.540833   2.277500     4.263333  \n",
       "3  4.286129   6.458065   2.277419     4.180968  \n",
       "4  4.222368   6.416842   2.210263     4.207105  "
      ]
     },
     "execution_count": 3,
     "metadata": {},
     "output_type": "execute_result"
    }
   ],
   "source": [
    "# store the features in a separate dataframe\n",
    "X = cal_90d_agg.drop(columns = ['fips','score'])\n",
    "\n",
    "# view the features dataframe\n",
    "X.head()"
   ]
  },
  {
   "cell_type": "code",
   "execution_count": 4,
   "metadata": {},
   "outputs": [
    {
     "name": "stdout",
     "output_type": "stream",
     "text": [
      "0    1.0\n",
      "1    1.0\n",
      "2    0.0\n",
      "3    0.0\n",
      "4    0.0\n",
      "Name: score, dtype: float64\n",
      "0.0    27785\n",
      "1.0    10371\n",
      "2.0     9985\n",
      "3.0     7722\n",
      "4.0     3911\n",
      "5.0     3794\n",
      "Name: score, dtype: int64\n"
     ]
    }
   ],
   "source": [
    "# store the drought intensity labels in a separate dataframe\n",
    "y = cal_90d_agg['score'].round()\n",
    "\n",
    "# view the first 5 rows of the labels dataframe\n",
    "print(y.head())\n",
    "\n",
    "# view the occurences of different labels\n",
    "print(y.value_counts())"
   ]
  },
  {
   "cell_type": "code",
   "execution_count": 11,
   "metadata": {},
   "outputs": [
    {
     "name": "stdout",
     "output_type": "stream",
     "text": [
      "   index  score  intensity\n",
      "0    0.0  27785        0.0\n",
      "1    1.0  10371        1.0\n",
      "2    2.0   9985        2.0\n",
      "3    3.0   7722        3.0\n",
      "4    4.0   3911        4.0\n",
      "5    5.0   3794        5.0\n"
     ]
    }
   ],
   "source": [
    "y_bp_df = pd.DataFrame(y.value_counts())\n",
    "y_bp_df1 = y_bp_df.reset_index()\n",
    "y_bp_df1['intensity'] = y_bp_df1['index']\n",
    "print(y_bp_df1)"
   ]
  },
  {
   "cell_type": "code",
   "execution_count": 13,
   "metadata": {},
   "outputs": [
    {
     "data": {
      "text/plain": [
       "<matplotlib.axes._subplots.AxesSubplot at 0x2578b4ded30>"
      ]
     },
     "execution_count": 13,
     "metadata": {},
     "output_type": "execute_result"
    },
    {
     "data": {
      "image/png": "[encoded data removed]",
      "text/plain": [
       "<Figure size 432x288 with 1 Axes>"
      ]
     },
     "metadata": {
      "needs_background": "light"
     },
     "output_type": "display_data"
    }
   ],
   "source": [
    "sns.barplot(data=y_bp_df1,x='intensity',y='score')"
   ]
  },
  {
   "cell_type": "code",
   "execution_count": 14,
   "metadata": {},
   "outputs": [
    {
     "name": "stdout",
     "output_type": "stream",
     "text": [
      "   PDSI_0.0  PDSI_1.0  PDSI_2.0  PDSI_3.0  PDSI_4.0  PDSI_5.0\n",
      "0         0         1         0         0         0         0\n",
      "1         0         1         0         0         0         0\n",
      "2         1         0         0         0         0         0\n",
      "3         1         0         0         0         0         0\n",
      "4         1         0         0         0         0         0\n",
      "0    35783\n",
      "1    27785\n",
      "Name: PDSI_0.0, dtype: int64\n",
      "0    53197\n",
      "1    10371\n",
      "Name: PDSI_1.0, dtype: int64\n",
      "0    53583\n",
      "1     9985\n",
      "Name: PDSI_2.0, dtype: int64\n",
      "0    55846\n",
      "1     7722\n",
      "Name: PDSI_3.0, dtype: int64\n",
      "0    59657\n",
      "1     3911\n",
      "Name: PDSI_4.0, dtype: int64\n",
      "0    59774\n",
      "1     3794\n",
      "Name: PDSI_5.0, dtype: int64\n"
     ]
    }
   ],
   "source": [
    "# one hot encode the labels\n",
    "y_df = pd.get_dummies(y,prefix='PDSI')\n",
    "\n",
    "# view the new one hot encoded labels dataframe\n",
    "print(y_df.head())\n",
    "\n",
    "# view the occurences of different labels to verify\n",
    "print(y_df['PDSI_0.0'].value_counts())\n",
    "print(y_df['PDSI_1.0'].value_counts())\n",
    "print(y_df['PDSI_2.0'].value_counts())\n",
    "print(y_df['PDSI_3.0'].value_counts())\n",
    "print(y_df['PDSI_4.0'].value_counts())\n",
    "print(y_df['PDSI_5.0'].value_counts())"
   ]
  },
  {
   "cell_type": "code",
   "execution_count": 15,
   "metadata": {},
   "outputs": [
    {
     "name": "stdout",
     "output_type": "stream",
     "text": [
      "    PRECTOT        PS      QV2M       T2M    T2MDEW    T2MWET   T2M_MAX  \\\n",
      "0  0.012368  0.925852  0.363263  0.343546  0.597658  0.591292  0.336442   \n",
      "1  0.107869  0.917340  0.424361  0.365590  0.651653  0.645891  0.337408   \n",
      "2  0.319828  0.911741  0.488723  0.382665  0.701241  0.696198  0.341340   \n",
      "3  0.272138  0.910642  0.483388  0.381493  0.699545  0.694401  0.341495   \n",
      "4  0.237434  0.910308  0.498203  0.389187  0.712535  0.707557  0.354926   \n",
      "\n",
      "    T2M_MIN  T2M_RANGE        TS     WS10M  WS10M_MAX  WS10M_MIN  WS10M_RANGE  \\\n",
      "0  0.400992   0.427046  0.366207  0.201716   0.286604   0.211681     0.336436   \n",
      "1  0.431559   0.371745  0.381523  0.233060   0.365411   0.197743     0.490780   \n",
      "2  0.457937   0.330659  0.395543  0.225427   0.352744   0.197344     0.469699   \n",
      "3  0.454101   0.338157  0.395062  0.221294   0.332175   0.196948     0.434517   \n",
      "4  0.460260   0.354962  0.400073  0.214532   0.328494   0.188519     0.439262   \n",
      "\n",
      "      WS50M  WS50M_MAX  WS50M_MIN  WS50M_RANGE  \n",
      "0  0.258895   0.319971   0.256376     0.358597  \n",
      "1  0.308030   0.418415   0.264373     0.524618  \n",
      "2  0.305886   0.398887   0.272356     0.476670  \n",
      "3  0.300952   0.388052   0.272343     0.457115  \n",
      "4  0.291547   0.382656   0.262074     0.463321  \n"
     ]
    }
   ],
   "source": [
    "# Normalizing the dataset\n",
    "X_norm = pd.DataFrame(MinMaxScaler().fit_transform(X),columns=X.columns)\n",
    "\n",
    "# view the first 5 rows of the dataframe\n",
    "print(X_norm.head())"
   ]
  },
  {
   "cell_type": "code",
   "execution_count": 17,
   "metadata": {},
   "outputs": [
    {
     "data": {
      "image/png": "[encoded data removed]",
      "text/plain": [
       "<Figure size 1440x1440 with 20 Axes>"
      ]
     },
     "metadata": {
      "needs_background": "light"
     },
     "output_type": "display_data"
    }
   ],
   "source": [
    "# plot distribution graphs of all the normalized features\n",
    "X_norm.hist(figsize=(20,20),grid=False)\n",
    "plt.show()"
   ]
  },
  {
   "cell_type": "code",
   "execution_count": null,
   "metadata": {},
   "outputs": [],
   "source": [
    "sns.histplot(X_norm."
   ]
  },
  {
   "cell_type": "code",
   "execution_count": 20,
   "metadata": {},
   "outputs": [
    {
     "name": "stdout",
     "output_type": "stream",
     "text": [
      "    PRECTOT        PS      QV2M       T2M    T2MDEW    T2MWET   T2M_MAX  \\\n",
      "0  0.012368  0.925852  0.363263  0.343546  0.597658  0.591292  0.336442   \n",
      "1  0.107869  0.917340  0.424361  0.365590  0.651653  0.645891  0.337408   \n",
      "2  0.319828  0.911741  0.488723  0.382665  0.701241  0.696198  0.341340   \n",
      "3  0.272138  0.910642  0.483388  0.381493  0.699545  0.694401  0.341495   \n",
      "4  0.237434  0.910308  0.498203  0.389187  0.712535  0.707557  0.354926   \n",
      "\n",
      "    T2M_MIN  T2M_RANGE        TS     WS10M  WS10M_MAX  WS10M_MIN  WS10M_RANGE  \\\n",
      "0  0.400992   0.427046  0.366207  0.201716   0.286604   0.211681     0.336436   \n",
      "1  0.431559   0.371745  0.381523  0.233060   0.365411   0.197743     0.490780   \n",
      "2  0.457937   0.330659  0.395543  0.225427   0.352744   0.197344     0.469699   \n",
      "3  0.454101   0.338157  0.395062  0.221294   0.332175   0.196948     0.434517   \n",
      "4  0.460260   0.354962  0.400073  0.214532   0.328494   0.188519     0.439262   \n",
      "\n",
      "      WS50M  WS50M_MAX  WS50M_MIN  WS50M_RANGE  score  \n",
      "0  0.258895   0.319971   0.256376     0.358597    1.0  \n",
      "1  0.308030   0.418415   0.264373     0.524618    1.0  \n",
      "2  0.305886   0.398887   0.272356     0.476670    0.0  \n",
      "3  0.300952   0.388052   0.272343     0.457115    0.0  \n",
      "4  0.291547   0.382656   0.262074     0.463321    0.0  \n",
      "<class 'pandas.core.frame.DataFrame'>\n",
      "RangeIndex: 63568 entries, 0 to 63567\n",
      "Data columns (total 19 columns):\n",
      " #   Column       Non-Null Count  Dtype  \n",
      "---  ------       --------------  -----  \n",
      " 0   PRECTOT      63568 non-null  float64\n",
      " 1   PS           63568 non-null  float64\n",
      " 2   QV2M         63568 non-null  float64\n",
      " 3   T2M          63568 non-null  float64\n",
      " 4   T2MDEW       63568 non-null  float64\n",
      " 5   T2MWET       63568 non-null  float64\n",
      " 6   T2M_MAX      63568 non-null  float64\n",
      " 7   T2M_MIN      63568 non-null  float64\n",
      " 8   T2M_RANGE    63568 non-null  float64\n",
      " 9   TS           63568 non-null  float64\n",
      " 10  WS10M        63568 non-null  float64\n",
      " 11  WS10M_MAX    63568 non-null  float64\n",
      " 12  WS10M_MIN    63568 non-null  float64\n",
      " 13  WS10M_RANGE  63568 non-null  float64\n",
      " 14  WS50M        63568 non-null  float64\n",
      " 15  WS50M_MAX    63568 non-null  float64\n",
      " 16  WS50M_MIN    63568 non-null  float64\n",
      " 17  WS50M_RANGE  63568 non-null  float64\n",
      " 18  score        63568 non-null  float64\n",
      "dtypes: float64(19)\n",
      "memory usage: 9.2 MB\n",
      "None\n",
      "              PRECTOT        PS      QV2M       T2M    T2MDEW    T2MWET  \\\n",
      "PRECTOT      1.000000 -0.048007 -0.204288 -0.666130 -0.146719 -0.151690   \n",
      "PS          -0.048007  1.000000  0.616927  0.331619  0.755998  0.759470   \n",
      "QV2M        -0.204288  0.616927  1.000000  0.506584  0.972135  0.972155   \n",
      "T2M         -0.666130  0.331619  0.506584  1.000000  0.489889  0.493620   \n",
      "T2MDEW      -0.146719  0.755998  0.972135  0.489889  1.000000  0.999557   \n",
      "T2MWET      -0.151690  0.759470  0.972155  0.493620  0.999557  1.000000   \n",
      "T2M_MAX     -0.701349  0.259487  0.411447  0.983864  0.395706  0.399436   \n",
      "T2M_MIN     -0.606137  0.442801  0.601190  0.974832  0.589823  0.593798   \n",
      "T2M_RANGE   -0.633563 -0.099579 -0.003659  0.698454 -0.021297 -0.019076   \n",
      "TS          -0.660300  0.341604  0.530653  0.995229  0.512305  0.515838   \n",
      "WS10M       -0.124301  0.359713  0.313631  0.078592  0.324374  0.327566   \n",
      "WS10M_MAX   -0.238329  0.277126  0.264030  0.188088  0.259103  0.262540   \n",
      "WS10M_MIN   -0.013544  0.405457  0.350696 -0.032692  0.372841  0.375394   \n",
      "WS10M_RANGE -0.352041  0.036846  0.069150  0.319307  0.040434  0.043258   \n",
      "WS50M        0.137465  0.316490  0.157197 -0.162175  0.199240  0.200901   \n",
      "WS50M_MAX    0.063335  0.328725  0.118309 -0.027314  0.168775  0.170924   \n",
      "WS50M_MIN    0.181063  0.351591  0.237624 -0.228462  0.275307  0.276648   \n",
      "WS50M_RANGE -0.119523  0.101059 -0.099853  0.235986 -0.064361 -0.062525   \n",
      "score       -0.249677 -0.033088 -0.049342  0.162823 -0.062657 -0.059465   \n",
      "\n",
      "              T2M_MAX   T2M_MIN  T2M_RANGE        TS     WS10M  WS10M_MAX  \\\n",
      "PRECTOT     -0.701349 -0.606137  -0.633563 -0.660300 -0.124301  -0.238329   \n",
      "PS           0.259487  0.442801  -0.099579  0.341604  0.359713   0.277126   \n",
      "QV2M         0.411447  0.601190  -0.003659  0.530653  0.313631   0.264030   \n",
      "T2M          0.983864  0.974832   0.698454  0.995229  0.078592   0.188088   \n",
      "T2MDEW       0.395706  0.589823  -0.021297  0.512305  0.324374   0.259103   \n",
      "T2MWET       0.399436  0.593798  -0.019076  0.515838  0.327566   0.262540   \n",
      "T2M_MAX      1.000000  0.924133   0.811824  0.978788  0.020406   0.147415   \n",
      "T2M_MIN      0.924133  1.000000   0.527142  0.969281  0.149890   0.230756   \n",
      "T2M_RANGE    0.811824  0.527142   1.000000  0.695648 -0.183686  -0.024785   \n",
      "TS           0.978788  0.969281   0.695648  1.000000  0.131562   0.242706   \n",
      "WS10M        0.020406  0.149890  -0.183686  0.131562  1.000000   0.942469   \n",
      "WS10M_MAX    0.147415  0.230756  -0.024785  0.242706  0.942469   1.000000   \n",
      "WS10M_MIN   -0.089117  0.049784  -0.274291  0.016648  0.927921   0.771617   \n",
      "WS10M_RANGE  0.310949  0.305816   0.224224  0.355791  0.556424   0.793934   \n",
      "WS50M       -0.211813 -0.095836  -0.324639 -0.114930  0.916908   0.792780   \n",
      "WS50M_MAX   -0.065538  0.014692  -0.168221  0.019178  0.886986   0.851835   \n",
      "WS50M_MIN   -0.277832 -0.150504  -0.387928 -0.180549  0.851727   0.664154   \n",
      "WS50M_RANGE  0.234643  0.208389   0.203403  0.252502  0.391590   0.564722   \n",
      "score        0.181286  0.146914   0.178682  0.156653 -0.017941   0.036014   \n",
      "\n",
      "             WS10M_MIN  WS10M_RANGE     WS50M  WS50M_MAX  WS50M_MIN  \\\n",
      "PRECTOT      -0.013544    -0.352041  0.137465   0.063335   0.181063   \n",
      "PS            0.405457     0.036846  0.316490   0.328725   0.351591   \n",
      "QV2M          0.350696     0.069150  0.157197   0.118309   0.237624   \n",
      "T2M          -0.032692     0.319307 -0.162175  -0.027314  -0.228462   \n",
      "T2MDEW        0.372841     0.040434  0.199240   0.168775   0.275307   \n",
      "T2MWET        0.375394     0.043258  0.200901   0.170924   0.276648   \n",
      "T2M_MAX      -0.089117     0.310949 -0.211813  -0.065538  -0.277832   \n",
      "T2M_MIN       0.049784     0.305816 -0.095836   0.014692  -0.150504   \n",
      "T2M_RANGE    -0.274291     0.224224 -0.324639  -0.168221  -0.387928   \n",
      "TS            0.016648     0.355791 -0.114930   0.019178  -0.180549   \n",
      "WS10M         0.927921     0.556424  0.916908   0.886986   0.851727   \n",
      "WS10M_MAX     0.771617     0.793934  0.792780   0.851835   0.664154   \n",
      "WS10M_MIN     1.000000     0.225870  0.904398   0.788335   0.958529   \n",
      "WS10M_RANGE   0.225870     1.000000  0.349664   0.551048   0.100931   \n",
      "WS50M         0.904398     0.349664  1.000000   0.938600   0.931246   \n",
      "WS50M_MAX     0.788335     0.551048  0.938600   1.000000   0.787048   \n",
      "WS50M_MIN     0.958529     0.100931  0.931246   0.787048   1.000000   \n",
      "WS50M_RANGE   0.100868     0.768458  0.377626   0.653897   0.047919   \n",
      "score        -0.063071     0.115433 -0.077469  -0.038305  -0.106689   \n",
      "\n",
      "             WS50M_RANGE     score  \n",
      "PRECTOT        -0.119523 -0.249677  \n",
      "PS              0.101059 -0.033088  \n",
      "QV2M           -0.099853 -0.049342  \n",
      "T2M             0.235986  0.162823  \n",
      "T2MDEW         -0.064361 -0.062657  \n",
      "T2MWET         -0.062525 -0.059465  \n",
      "T2M_MAX         0.234643  0.181286  \n",
      "T2M_MIN         0.208389  0.146914  \n",
      "T2M_RANGE       0.203403  0.178682  \n",
      "TS              0.252502  0.156653  \n",
      "WS10M           0.391590 -0.017941  \n",
      "WS10M_MAX       0.564722  0.036014  \n",
      "WS10M_MIN       0.100868 -0.063071  \n",
      "WS10M_RANGE     0.768458  0.115433  \n",
      "WS50M           0.377626 -0.077469  \n",
      "WS50M_MAX       0.653897 -0.038305  \n",
      "WS50M_MIN       0.047919 -0.106689  \n",
      "WS50M_RANGE     1.000000  0.068838  \n",
      "score           0.068838  1.000000  \n"
     ]
    }
   ],
   "source": [
    "X_norm_corr = X_norm\n",
    "X_norm_corr['score'] = y\n",
    "print(X_norm_corr.head())\n",
    "data = X_norm_corr\n",
    "print(data.info())\n",
    "data_corr = data.corr()\n",
    "print(data_corr)"
   ]
  },
  {
   "cell_type": "code",
   "execution_count": 23,
   "metadata": {},
   "outputs": [
    {
     "data": {
      "image/png": "[encoded data removed]",
      "text/plain": [
       "<Figure size 432x288 with 2 Axes>"
      ]
     },
     "metadata": {
      "needs_background": "light"
     },
     "output_type": "display_data"
    }
   ],
   "source": [
    "ax = sns.heatmap(data_corr,vmin=-1,vmax=1,center=0,cmap=sns.diverging_palette(20,220,n=200),square=True)"
   ]
  },
  {
   "cell_type": "code",
   "execution_count": 25,
   "metadata": {},
   "outputs": [
    {
     "name": "stdout",
     "output_type": "stream",
     "text": [
      "             PRECTOT        PS      QV2M       T2M    T2MDEW    T2MWET  \\\n",
      "PRECTOT          NaN -0.048007 -0.204288 -0.666130 -0.146719 -0.151690   \n",
      "PS               NaN       NaN  0.616927  0.331619  0.755998  0.759470   \n",
      "QV2M             NaN       NaN       NaN  0.506584  0.972135  0.972155   \n",
      "T2M              NaN       NaN       NaN       NaN  0.489889  0.493620   \n",
      "T2MDEW           NaN       NaN       NaN       NaN       NaN  0.999557   \n",
      "T2MWET           NaN       NaN       NaN       NaN       NaN       NaN   \n",
      "T2M_MAX          NaN       NaN       NaN       NaN       NaN       NaN   \n",
      "T2M_MIN          NaN       NaN       NaN       NaN       NaN       NaN   \n",
      "T2M_RANGE        NaN       NaN       NaN       NaN       NaN       NaN   \n",
      "TS               NaN       NaN       NaN       NaN       NaN       NaN   \n",
      "WS10M            NaN       NaN       NaN       NaN       NaN       NaN   \n",
      "WS10M_MAX        NaN       NaN       NaN       NaN       NaN       NaN   \n",
      "WS10M_MIN        NaN       NaN       NaN       NaN       NaN       NaN   \n",
      "WS10M_RANGE      NaN       NaN       NaN       NaN       NaN       NaN   \n",
      "WS50M            NaN       NaN       NaN       NaN       NaN       NaN   \n",
      "WS50M_MAX        NaN       NaN       NaN       NaN       NaN       NaN   \n",
      "WS50M_MIN        NaN       NaN       NaN       NaN       NaN       NaN   \n",
      "WS50M_RANGE      NaN       NaN       NaN       NaN       NaN       NaN   \n",
      "score            NaN       NaN       NaN       NaN       NaN       NaN   \n",
      "\n",
      "              T2M_MAX   T2M_MIN  T2M_RANGE        TS     WS10M  WS10M_MAX  \\\n",
      "PRECTOT     -0.701349 -0.606137  -0.633563 -0.660300 -0.124301  -0.238329   \n",
      "PS           0.259487  0.442801  -0.099579  0.341604  0.359713   0.277126   \n",
      "QV2M         0.411447  0.601190  -0.003659  0.530653  0.313631   0.264030   \n",
      "T2M          0.983864  0.974832   0.698454  0.995229  0.078592   0.188088   \n",
      "T2MDEW       0.395706  0.589823  -0.021297  0.512305  0.324374   0.259103   \n",
      "T2MWET       0.399436  0.593798  -0.019076  0.515838  0.327566   0.262540   \n",
      "T2M_MAX           NaN  0.924133   0.811824  0.978788  0.020406   0.147415   \n",
      "T2M_MIN           NaN       NaN   0.527142  0.969281  0.149890   0.230756   \n",
      "T2M_RANGE         NaN       NaN        NaN  0.695648 -0.183686  -0.024785   \n",
      "TS                NaN       NaN        NaN       NaN  0.131562   0.242706   \n",
      "WS10M             NaN       NaN        NaN       NaN       NaN   0.942469   \n",
      "WS10M_MAX         NaN       NaN        NaN       NaN       NaN        NaN   \n",
      "WS10M_MIN         NaN       NaN        NaN       NaN       NaN        NaN   \n",
      "WS10M_RANGE       NaN       NaN        NaN       NaN       NaN        NaN   \n",
      "WS50M             NaN       NaN        NaN       NaN       NaN        NaN   \n",
      "WS50M_MAX         NaN       NaN        NaN       NaN       NaN        NaN   \n",
      "WS50M_MIN         NaN       NaN        NaN       NaN       NaN        NaN   \n",
      "WS50M_RANGE       NaN       NaN        NaN       NaN       NaN        NaN   \n",
      "score             NaN       NaN        NaN       NaN       NaN        NaN   \n",
      "\n",
      "             WS10M_MIN  WS10M_RANGE     WS50M  WS50M_MAX  WS50M_MIN  \\\n",
      "PRECTOT      -0.013544    -0.352041  0.137465   0.063335   0.181063   \n",
      "PS            0.405457     0.036846  0.316490   0.328725   0.351591   \n",
      "QV2M          0.350696     0.069150  0.157197   0.118309   0.237624   \n",
      "T2M          -0.032692     0.319307 -0.162175  -0.027314  -0.228462   \n",
      "T2MDEW        0.372841     0.040434  0.199240   0.168775   0.275307   \n",
      "T2MWET        0.375394     0.043258  0.200901   0.170924   0.276648   \n",
      "T2M_MAX      -0.089117     0.310949 -0.211813  -0.065538  -0.277832   \n",
      "T2M_MIN       0.049784     0.305816 -0.095836   0.014692  -0.150504   \n",
      "T2M_RANGE    -0.274291     0.224224 -0.324639  -0.168221  -0.387928   \n",
      "TS            0.016648     0.355791 -0.114930   0.019178  -0.180549   \n",
      "WS10M         0.927921     0.556424  0.916908   0.886986   0.851727   \n",
      "WS10M_MAX     0.771617     0.793934  0.792780   0.851835   0.664154   \n",
      "WS10M_MIN          NaN     0.225870  0.904398   0.788335   0.958529   \n",
      "WS10M_RANGE        NaN          NaN  0.349664   0.551048   0.100931   \n",
      "WS50M              NaN          NaN       NaN   0.938600   0.931246   \n",
      "WS50M_MAX          NaN          NaN       NaN        NaN   0.787048   \n",
      "WS50M_MIN          NaN          NaN       NaN        NaN        NaN   \n",
      "WS50M_RANGE        NaN          NaN       NaN        NaN        NaN   \n",
      "score              NaN          NaN       NaN        NaN        NaN   \n",
      "\n",
      "             WS50M_RANGE     score  \n",
      "PRECTOT        -0.119523 -0.249677  \n",
      "PS              0.101059 -0.033088  \n",
      "QV2M           -0.099853 -0.049342  \n",
      "T2M             0.235986  0.162823  \n",
      "T2MDEW         -0.064361 -0.062657  \n",
      "T2MWET         -0.062525 -0.059465  \n",
      "T2M_MAX         0.234643  0.181286  \n",
      "T2M_MIN         0.208389  0.146914  \n",
      "T2M_RANGE       0.203403  0.178682  \n",
      "TS              0.252502  0.156653  \n",
      "WS10M           0.391590 -0.017941  \n",
      "WS10M_MAX       0.564722  0.036014  \n",
      "WS10M_MIN       0.100868 -0.063071  \n",
      "WS10M_RANGE     0.768458  0.115433  \n",
      "WS50M           0.377626 -0.077469  \n",
      "WS50M_MAX       0.653897 -0.038305  \n",
      "WS50M_MIN       0.047919 -0.106689  \n",
      "WS50M_RANGE          NaN  0.068838  \n",
      "score                NaN       NaN  \n"
     ]
    }
   ],
   "source": [
    "upper_tri = data_corr.where(np.triu(np.ones(data_corr.shape),k=1).astype(np.bool))\n",
    "print(upper_tri)"
   ]
  },
  {
   "cell_type": "code",
   "execution_count": 26,
   "metadata": {},
   "outputs": [
    {
     "name": "stdout",
     "output_type": "stream",
     "text": [
      "['T2MDEW', 'T2MWET', 'T2M_MAX', 'T2M_MIN', 'TS', 'WS50M_MIN']\n"
     ]
    }
   ],
   "source": [
    "to_drop = [column for column in upper_tri.columns if any(upper_tri[column] > 0.95)]\n",
    "print(to_drop)"
   ]
  },
  {
   "cell_type": "code",
   "execution_count": 8,
   "metadata": {},
   "outputs": [
    {
     "name": "stdout",
     "output_type": "stream",
     "text": [
      "(44497, 18)\n",
      "(19071, 18)\n",
      "(44497,)\n",
      "(19071,)\n"
     ]
    }
   ],
   "source": [
    "# split the features and labels dataframe into training and testing dataset\n",
    "xtrain , xtest , ytrain, ytest = train_test_split(X_norm,y_df['PDSI_0.0'], random_state = 42, test_size = 0.30, shuffle = True)\n",
    "\n",
    "print(xtrain.shape)\n",
    "print(xtest.shape)\n",
    "print(ytrain.shape)\n",
    "print(ytest.shape)"
   ]
  },
  {
   "cell_type": "code",
   "execution_count": 34,
   "metadata": {},
   "outputs": [
    {
     "name": "stdout",
     "output_type": "stream",
     "text": [
      "    PRECTOT        PS      QV2M       T2M  T2M_RANGE     WS10M  WS10M_MAX  \\\n",
      "0  0.012368  0.925852  0.363263  0.343546   0.427046  0.201716   0.286604   \n",
      "1  0.107869  0.917340  0.424361  0.365590   0.371745  0.233060   0.365411   \n",
      "2  0.319828  0.911741  0.488723  0.382665   0.330659  0.225427   0.352744   \n",
      "3  0.272138  0.910642  0.483388  0.381493   0.338157  0.221294   0.332175   \n",
      "4  0.237434  0.910308  0.498203  0.389187   0.354962  0.214532   0.328494   \n",
      "\n",
      "   WS10M_MIN  WS10M_RANGE     WS50M  WS50M_MAX  WS50M_RANGE  \n",
      "0   0.211681     0.336436  0.258895   0.319971     0.358597  \n",
      "1   0.197743     0.490780  0.308030   0.418415     0.524618  \n",
      "2   0.197344     0.469699  0.305886   0.398887     0.476670  \n",
      "3   0.196948     0.434517  0.300952   0.388052     0.457115  \n",
      "4   0.188519     0.439262  0.291547   0.382656     0.463321  \n"
     ]
    }
   ],
   "source": [
    "X_norm_d = X_norm.drop(columns = to_drop, axis=1)\n",
    "X_norm_d = X_norm_d.drop(columns = ['score'], axis=1)\n",
    "print(X_norm_d.head())"
   ]
  },
  {
   "cell_type": "code",
   "execution_count": 35,
   "metadata": {},
   "outputs": [
    {
     "name": "stdout",
     "output_type": "stream",
     "text": [
      "(44497, 12)\n",
      "(19071, 12)\n",
      "(44497,)\n",
      "(19071,)\n"
     ]
    }
   ],
   "source": [
    "xtraind, xtestd, ytraind, ytestd = train_test_split(X_norm_d, y_df['PDSI_0.0'], random_state = 42, test_size = 0.30, shuffle = True)\n",
    "print(xtraind.shape)\n",
    "print(xtestd.shape)\n",
    "print(ytraind.shape)\n",
    "print(ytestd.shape)"
   ]
  },
  {
   "cell_type": "code",
   "execution_count": 9,
   "metadata": {},
   "outputs": [],
   "source": [
    "# lof = LocalOutlierFactor()\n",
    "# yhat = lof.fit_predict(xtrain)\n",
    "# # select all rows that are not outliers\n",
    "# mask = yhat != -1\n",
    "# X_train, y_train = xtrain[mask, :], ytrain[mask]\n",
    "# # summarize the shape of the updated training dataset\n",
    "# print(xtrain.shape, ytrain.shape)"
   ]
  },
  {
   "cell_type": "code",
   "execution_count": 9,
   "metadata": {},
   "outputs": [],
   "source": [
    "# def f_importances(coef, names):\n",
    "#     imp = coef\n",
    "#     imp,names = zip(*sorted(zip(imp,names)))\n",
    "#     plt.barh(range(len(names)), imp, align='center')\n",
    "#     plt.yticks(range(len(names)), names)\n",
    "#     plt.show()\n",
    "\n",
    "# # f_importances(svm.coef_, features_names)"
   ]
  },
  {
   "cell_type": "markdown",
   "metadata": {},
   "source": [
    "# SVM"
   ]
  },
  {
   "cell_type": "code",
   "execution_count": 10,
   "metadata": {},
   "outputs": [],
   "source": [
    "# Train an SVM model\n",
    "# define an svm model and fit on xtrain and ytrain\n",
    "svm_classifier = svm.SVC(kernel='rbf', C=2 ,gamma='scale')\n",
    "svm_classifier.fit(xtrain, ytrain)\n",
    "\n",
    "# predict with the help of trained svm model\n",
    "y_pred_svm = svm_classifier.predict(xtest)"
   ]
  },
  {
   "cell_type": "code",
   "execution_count": 11,
   "metadata": {},
   "outputs": [
    {
     "name": "stdout",
     "output_type": "stream",
     "text": [
      "accuracy_score: 0.7193120444654187\n",
      "f1_score: 0.7193120444654189\n",
      "              precision    recall  f1-score   support\n",
      "\n",
      "           0       0.71      0.85      0.77     10731\n",
      "           1       0.74      0.55      0.63      8340\n",
      "\n",
      "    accuracy                           0.72     19071\n",
      "   macro avg       0.73      0.70      0.70     19071\n",
      "weighted avg       0.72      0.72      0.71     19071\n",
      "\n"
     ]
    }
   ],
   "source": [
    "# view various evaluation matrices\n",
    "print(\"accuracy_score:\", accuracy_score(ytest,y_pred_svm))\n",
    "print(\"f1_score:\", f1_score(ytest,y_pred_svm,average = 'micro'))\n",
    "print(classification_report(ytest,y_pred_svm))"
   ]
  },
  {
   "cell_type": "markdown",
   "metadata": {},
   "source": [
    "# Logistic Regression"
   ]
  },
  {
   "cell_type": "code",
   "execution_count": 13,
   "metadata": {},
   "outputs": [],
   "source": [
    "# LogReg_clf = LogisticRegression(random_state = 0, max_iter=15000, solver='saga',penalty='elasticnet',l1_ratio=1) #0.7118661842588223\n",
    "# LogReg_clf = LogisticRegression(random_state = 0, max_iter=10000, solver='liblinear',penalty='l1') 0.7112893922709873\n",
    "\n",
    "# Train a Logistic Regression model\n",
    "# define an logistic regression model and fit on xtrain and ytrain\n",
    "LogReg_classifier = LogisticRegression(random_state = 0, max_iter=500, solver='lbfgs',penalty='none') # 0.7124954118819149\n",
    "LogReg_classifier.fit(xtrain, ytrain)\n",
    "\n",
    "# predict with the help of trained logistic regression model\n",
    "y_pred_lr = LogReg_classifier.predict(xtest)"
   ]
  },
  {
   "cell_type": "code",
   "execution_count": 14,
   "metadata": {},
   "outputs": [
    {
     "name": "stdout",
     "output_type": "stream",
     "text": [
      "accuracy_score: 0.6820827434324367\n",
      "f1_score: 0.6820827434324367\n",
      "              precision    recall  f1-score   support\n",
      "\n",
      "           0       0.68      0.82      0.74     10731\n",
      "           1       0.69      0.50      0.58      8340\n",
      "\n",
      "    accuracy                           0.68     19071\n",
      "   macro avg       0.68      0.66      0.66     19071\n",
      "weighted avg       0.68      0.68      0.67     19071\n",
      "\n"
     ]
    }
   ],
   "source": [
    "# view various evaluation matrices\n",
    "print(\"accuracy_score:\", accuracy_score(ytest,y_pred_lr))\n",
    "print(\"f1_score:\", f1_score(ytest,y_pred_lr,average = 'micro'))\n",
    "print(classification_report(ytest,y_pred_lr))"
   ]
  },
  {
   "cell_type": "markdown",
   "metadata": {},
   "source": [
    "# XGBOOST"
   ]
  },
  {
   "cell_type": "code",
   "execution_count": 15,
   "metadata": {},
   "outputs": [],
   "source": [
    "# Train an XGBoost model\n",
    "# define an XGBoost model and fit on xtrain and ytrain\n",
    "xgb_classifier = XGBClassifier() \n",
    "\n",
    "xgb_classifier.fit(xtrain, ytrain)\n",
    "\n",
    "# predict with the help of trained XGBoost model\n",
    "y_pred_xgb = xgb_classifier.predict(xtest)"
   ]
  },
  {
   "cell_type": "code",
   "execution_count": 16,
   "metadata": {},
   "outputs": [
    {
     "name": "stdout",
     "output_type": "stream",
     "text": [
      "accuracy_score: 0.7758900949084998\n",
      "f1_score: 0.7758900949084998\n",
      "              precision    recall  f1-score   support\n",
      "\n",
      "           0       0.77      0.85      0.81     10731\n",
      "           1       0.78      0.68      0.73      8340\n",
      "\n",
      "    accuracy                           0.78     19071\n",
      "   macro avg       0.78      0.77      0.77     19071\n",
      "weighted avg       0.78      0.78      0.77     19071\n",
      "\n"
     ]
    }
   ],
   "source": [
    "# view various evaluation matrices\n",
    "print(\"accuracy_score:\", accuracy_score(ytest,y_pred_xgb))\n",
    "print(\"f1_score:\", f1_score(ytest,y_pred_xgb,average = 'micro'))\n",
    "print(classification_report(ytest,y_pred_xgb))"
   ]
  },
  {
   "cell_type": "markdown",
   "metadata": {},
   "source": [
    "# KNeighborsClassifier"
   ]
  },
  {
   "cell_type": "code",
   "execution_count": 17,
   "metadata": {},
   "outputs": [],
   "source": [
    "# Train an KNeighborsClassifier model\n",
    "# define an KNeighborsClassifier model and fit on xtrain and ytrain\n",
    "knn_classifier = KNeighborsClassifier()\n",
    "knn_classifier.fit(xtrain,ytrain)\n",
    "\n",
    "# predict with the help of trained KNeighborsClassifier model\n",
    "y_pred_knn = knn_classifier.predict(xtest)"
   ]
  },
  {
   "cell_type": "code",
   "execution_count": 18,
   "metadata": {},
   "outputs": [
    {
     "name": "stdout",
     "output_type": "stream",
     "text": [
      "accuracy_score: 0.8143254155524094\n",
      "f1_score: 0.8143254155524094\n",
      "              precision    recall  f1-score   support\n",
      "\n",
      "           0       0.83      0.85      0.84     10731\n",
      "           1       0.80      0.77      0.78      8340\n",
      "\n",
      "    accuracy                           0.81     19071\n",
      "   macro avg       0.81      0.81      0.81     19071\n",
      "weighted avg       0.81      0.81      0.81     19071\n",
      "\n"
     ]
    }
   ],
   "source": [
    "# view various evaluation matrices\n",
    "print(\"accuracy_score:\", accuracy_score(ytest,y_pred_knn))\n",
    "print(\"f1_score:\", f1_score(ytest,y_pred_knn,average = 'micro'))\n",
    "print(classification_report(ytest,y_pred_knn))"
   ]
  },
  {
   "cell_type": "markdown",
   "metadata": {},
   "source": [
    "# RandomForestClassifier"
   ]
  },
  {
   "cell_type": "code",
   "execution_count": 10,
   "metadata": {},
   "outputs": [],
   "source": [
    "# Train a RandomForestClassifier model\n",
    "# define a RandomForestClassifier model and fit on xtrain and ytrain\n",
    "randomf_classifier = RandomForestClassifier(n_estimators = 1000, random_state = 42)\n",
    "randomf_classifier.fit(xtrain,ytrain)\n",
    "\n",
    "# predict with the help of trained KNeighborsClassifier model\n",
    "y_pred_randomf = randomf_classifier.predict(xtest)"
   ]
  },
  {
   "cell_type": "code",
   "execution_count": 31,
   "metadata": {},
   "outputs": [
    {
     "name": "stdout",
     "output_type": "stream",
     "text": [
      "accuracy_score: 0.8465733312359079\n",
      "f1_score: 0.8465733312359078\n",
      "              precision    recall  f1-score   support\n",
      "\n",
      "           0       0.84      0.90      0.87     10731\n",
      "           1       0.86      0.78      0.82      8340\n",
      "\n",
      "    accuracy                           0.85     19071\n",
      "   macro avg       0.85      0.84      0.84     19071\n",
      "weighted avg       0.85      0.85      0.85     19071\n",
      "\n"
     ]
    }
   ],
   "source": [
    "# view various evaluation matrices\n",
    "print(\"accuracy_score:\", accuracy_score(ytest,y_pred_randomf))\n",
    "print(\"f1_score:\", f1_score(ytest,y_pred_randomf,average = 'micro'))\n",
    "print(classification_report(ytest,y_pred_randomf))"
   ]
  },
  {
   "cell_type": "code",
   "execution_count": 13,
   "metadata": {},
   "outputs": [
    {
     "data": {
      "image/png": "[encoded data removed]",
      "text/plain": [
       "<Figure size 432x288 with 1 Axes>"
      ]
     },
     "metadata": {
      "needs_background": "light"
     },
     "output_type": "display_data"
    }
   ],
   "source": [
    "drought_features = X_norm.columns\n",
    "feature_importances = randomf_classifier.feature_importances_\n",
    "indices = np.argsort(feature_importances)[-18:]  # all 18 features\n",
    "plt.title('Feature Importances')\n",
    "plt.barh(range(len(indices)), feature_importances[indices], color='r', align='center')\n",
    "plt.yticks(range(len(indices)), [drought_features[i] for i in indices])\n",
    "plt.xlabel('Relative Importance')\n",
    "plt.show()"
   ]
  },
  {
   "cell_type": "code",
   "execution_count": 36,
   "metadata": {},
   "outputs": [],
   "source": [
    "# Train a RandomForestClassifier model\n",
    "# define a RandomForestClassifier model and fit on xtrain and ytrain\n",
    "randomf_classifierd = RandomForestClassifier(n_estimators = 1000, random_state = 42)\n",
    "randomf_classifierd.fit(xtraind,ytraind)\n",
    "\n",
    "# predict with the help of trained KNeighborsClassifier model\n",
    "y_pred_randomfd = randomf_classifierd.predict(xtestd)"
   ]
  },
  {
   "cell_type": "code",
   "execution_count": 37,
   "metadata": {},
   "outputs": [
    {
     "name": "stdout",
     "output_type": "stream",
     "text": [
      "accuracy_score: 0.852760736196319\n",
      "f1_score: 0.852760736196319\n",
      "              precision    recall  f1-score   support\n",
      "\n",
      "           0       0.84      0.91      0.87     10731\n",
      "           1       0.87      0.79      0.82      8340\n",
      "\n",
      "    accuracy                           0.85     19071\n",
      "   macro avg       0.85      0.85      0.85     19071\n",
      "weighted avg       0.85      0.85      0.85     19071\n",
      "\n"
     ]
    }
   ],
   "source": [
    "# view various evaluation matrices\n",
    "print(\"accuracy_score:\", accuracy_score(ytestd,y_pred_randomfd))\n",
    "print(\"f1_score:\", f1_score(ytestd,y_pred_randomfd,average = 'micro'))\n",
    "print(classification_report(ytestd,y_pred_randomfd))"
   ]
  },
  {
   "cell_type": "code",
   "execution_count": 38,
   "metadata": {},
   "outputs": [
    {
     "data": {
      "image/png": "[encoded data removed]",
      "text/plain": [
       "<Figure size 432x288 with 1 Axes>"
      ]
     },
     "metadata": {
      "needs_background": "light"
     },
     "output_type": "display_data"
    }
   ],
   "source": [
    "drought_features = X_norm_d.columns\n",
    "feature_importances = randomf_classifierd.feature_importances_\n",
    "indices = np.argsort(feature_importances)[-18:]  # all 18 features\n",
    "plt.title('Feature Importances')\n",
    "plt.barh(range(len(indices)), feature_importances[indices], color='r', align='center')\n",
    "plt.yticks(range(len(indices)), [drought_features[i] for i in indices])\n",
    "plt.xlabel('Relative Importance')\n",
    "plt.show()"
   ]
  },
  {
   "cell_type": "code",
   "execution_count": 14,
   "metadata": {},
   "outputs": [],
   "source": [
    "# Train a RandomForestClassifier model\n",
    "# define a RandomForestClassifier model and fit on xtrain and ytrain\n",
    "randomf_classifier1 = RandomForestClassifier(n_estimators = 100, random_state = 42)\n",
    "randomf_classifier1.fit(xtrain,ytrain)\n",
    "\n",
    "# predict with the help of trained KNeighborsClassifier model\n",
    "y_pred_randomf1 = randomf_classifier1.predict(xtest)"
   ]
  },
  {
   "cell_type": "code",
   "execution_count": 15,
   "metadata": {},
   "outputs": [
    {
     "name": "stdout",
     "output_type": "stream",
     "text": [
      "accuracy_score: 0.8432698862146715\n",
      "f1_score: 0.8432698862146715\n",
      "              precision    recall  f1-score   support\n",
      "\n",
      "           0       0.84      0.90      0.87     10731\n",
      "           1       0.85      0.77      0.81      8340\n",
      "\n",
      "    accuracy                           0.84     19071\n",
      "   macro avg       0.85      0.84      0.84     19071\n",
      "weighted avg       0.84      0.84      0.84     19071\n",
      "\n"
     ]
    }
   ],
   "source": [
    "# view various evaluation matrices\n",
    "print(\"accuracy_score:\", accuracy_score(ytest,y_pred_randomf1))\n",
    "print(\"f1_score:\", f1_score(ytest,y_pred_randomf1,average = 'micro'))\n",
    "print(classification_report(ytest,y_pred_randomf1))"
   ]
  },
  {
   "cell_type": "code",
   "execution_count": 16,
   "metadata": {},
   "outputs": [
    {
     "data": {
      "image/png": "[encoded data removed]",
      "text/plain": [
       "<Figure size 432x288 with 1 Axes>"
      ]
     },
     "metadata": {
      "needs_background": "light"
     },
     "output_type": "display_data"
    }
   ],
   "source": [
    "drought_features = X_norm.columns\n",
    "feature_importances = randomf_classifier1.feature_importances_\n",
    "indices = np.argsort(feature_importances)[-18:]  # all 18 features\n",
    "plt.title('Feature Importances')\n",
    "plt.barh(range(len(indices)), feature_importances[indices], color='r', align='center')\n",
    "plt.yticks(range(len(indices)), [drought_features[i] for i in indices])\n",
    "plt.xlabel('Relative Importance')\n",
    "plt.show()"
   ]
  },
  {
   "cell_type": "code",
   "execution_count": 17,
   "metadata": {},
   "outputs": [],
   "source": [
    "# Train a RandomForestClassifier model\n",
    "# define a RandomForestClassifier model and fit on xtrain and ytrain\n",
    "randomf_classifier2 = RandomForestClassifier(n_estimators = 500, random_state = 42)\n",
    "randomf_classifier2.fit(xtrain,ytrain)\n",
    "\n",
    "# predict with the help of trained KNeighborsClassifier model\n",
    "y_pred_randomf2 = randomf_classifier2.predict(xtest)"
   ]
  },
  {
   "cell_type": "code",
   "execution_count": 18,
   "metadata": {},
   "outputs": [
    {
     "name": "stdout",
     "output_type": "stream",
     "text": [
      "accuracy_score: 0.8463111530596193\n",
      "f1_score: 0.8463111530596193\n",
      "              precision    recall  f1-score   support\n",
      "\n",
      "           0       0.84      0.90      0.87     10731\n",
      "           1       0.85      0.78      0.82      8340\n",
      "\n",
      "    accuracy                           0.85     19071\n",
      "   macro avg       0.85      0.84      0.84     19071\n",
      "weighted avg       0.85      0.85      0.85     19071\n",
      "\n"
     ]
    }
   ],
   "source": [
    "# view various evaluation matrices\n",
    "print(\"accuracy_score:\", accuracy_score(ytest,y_pred_randomf2))\n",
    "print(\"f1_score:\", f1_score(ytest,y_pred_randomf2,average = 'micro'))\n",
    "print(classification_report(ytest,y_pred_randomf2))"
   ]
  },
  {
   "cell_type": "code",
   "execution_count": 19,
   "metadata": {},
   "outputs": [
    {
     "data": {
      "image/png": "[encoded data removed]",
      "text/plain": [
       "<Figure size 432x288 with 1 Axes>"
      ]
     },
     "metadata": {
      "needs_background": "light"
     },
     "output_type": "display_data"
    }
   ],
   "source": [
    "drought_features = X_norm.columns\n",
    "feature_importances = randomf_classifier2.feature_importances_\n",
    "indices = np.argsort(feature_importances)[-18:]  # all 18 features\n",
    "plt.title('Feature Importances')\n",
    "plt.barh(range(len(indices)), feature_importances[indices], color='r', align='center')\n",
    "plt.yticks(range(len(indices)), [drought_features[i] for i in indices])\n",
    "plt.xlabel('Relative Importance')\n",
    "plt.show()"
   ]
  },
  {
   "cell_type": "markdown",
   "metadata": {},
   "source": [
    "# VotingEnsemble"
   ]
  },
  {
   "cell_type": "code",
   "execution_count": 48,
   "metadata": {},
   "outputs": [],
   "source": [
    "# Train an KNeighborsClassifier model\n",
    "# import VotingClassifier\n",
    "from sklearn.ensemble import VotingClassifier\n",
    "\n",
    "# make a list of models to be used for ensemble\n",
    "# estimators=[('ann', KerasClassifier(build_fn = create_baseline, epochs = 10, batch_size = 5, verbose = 0)), ('svm', svm.SVC(kernel='rbf', C=2 ,gamma='scale')), ('log_reg', LogisticRegression(random_state = 0, max_iter=500, solver='lbfgs',penalty='none'))]\n",
    "estimators = [('rff1',RandomForestClassifier(n_estimators = 100, random_state = 42)),('rff2',RandomForestClassifier(n_estimators = 500, random_state = 42)),('rff3',RandomForestClassifier(n_estimators = 500, random_state = 42))]\n",
    "\n",
    "# define a VotingClassifier model and fit on xtrain and ytrain\n",
    "ensemble = VotingClassifier(estimators, voting='soft')\n",
    "ensemble.fit(xtrain, ytrain)"
   ]
  },
  {
   "cell_type": "code",
   "execution_count": null,
   "metadata": {},
   "outputs": [],
   "source": [
    "# predict with the help of trained VotingClassifier model\n",
    "y_pred_ensemble = ensemble.predict(xtest)"
   ]
  },
  {
   "cell_type": "code",
   "execution_count": null,
   "metadata": {},
   "outputs": [],
   "source": [
    "# evaluating f1-score\n",
    "print(\"accuracy_score:\", accuracy_score(ytest,y_pred_ensemble))\n",
    "print(\"f1_score:\", f1_score(ytest,y_pred_ensemble,average = 'micro'))\n",
    "print(classification_report(ytest,y_pred_ensemble))"
   ]
  },
  {
   "cell_type": "markdown",
   "metadata": {},
   "source": [
    "# Predicting Intensities"
   ]
  },
  {
   "cell_type": "code",
   "execution_count": 57,
   "metadata": {},
   "outputs": [],
   "source": [
    "from sklearn.multiclass import OneVsRestClassifier"
   ]
  },
  {
   "cell_type": "code",
   "execution_count": 58,
   "metadata": {},
   "outputs": [
    {
     "name": "stdout",
     "output_type": "stream",
     "text": [
      "      fips   PRECTOT          PS      QV2M        T2M    T2MDEW    T2MWET  \\\n",
      "0   6001.0  0.196000  100.487000  5.158000   7.692000  3.782000  3.810000   \n",
      "1   6001.0  1.709412  100.257059  5.701765   8.592941  5.245294  5.262941   \n",
      "76  6001.0  0.445778   99.451333  6.483222  16.751444  7.112889  7.130111   \n",
      "77  6001.0  0.453222   99.458556  6.546222  17.416000  7.258556  7.275667   \n",
      "80  6001.0  0.028222   99.385000  6.914667  19.665222  8.088222  8.104667   \n",
      "\n",
      "      T2M_MAX    T2M_MIN  T2M_RANGE         TS     WS10M  WS10M_MAX  \\\n",
      "0   13.969000   3.687000  10.283000   7.392000  2.666000   4.207000   \n",
      "1   14.011176   4.871765   9.138824   8.114706  2.854706   4.770588   \n",
      "76  26.260222   9.113000  17.146556  18.069556  4.038667   6.016444   \n",
      "77  27.095444   9.567111  17.527778  18.857222  4.037889   6.067778   \n",
      "80  30.030333  11.406556  18.623667  21.508222  4.329667   6.305000   \n",
      "\n",
      "    WS10M_MIN  WS10M_RANGE     WS50M  WS50M_MAX  WS50M_MIN  WS50M_RANGE  score  \n",
      "0    1.488000     2.719000  4.001000   5.938000   2.173000     3.766000    1.0  \n",
      "1    1.411765     3.357647  4.334118   6.690000   2.225294     4.465294    1.0  \n",
      "76   2.363889     3.651444  5.312556   7.422444   3.193222     4.229556    1.0  \n",
      "77   2.342667     3.724111  5.241556   7.397222   3.097000     4.300889    1.0  \n",
      "80   2.667000     3.637444  5.392444   7.412333   3.372000     4.041000    1.0  \n"
     ]
    }
   ],
   "source": [
    "cal_df1 = cal_90d_agg\n",
    "cal_df1.score = cal_df1.score.round()\n",
    "cal_df2 = cal_df1[cal_df1.score>0]\n",
    "print(cal_df2.head())"
   ]
  },
  {
   "cell_type": "code",
   "execution_count": 59,
   "metadata": {},
   "outputs": [
    {
     "name": "stdout",
     "output_type": "stream",
     "text": [
      "     PRECTOT          PS      QV2M        T2M    T2MDEW    T2MWET    T2M_MAX  \\\n",
      "0   0.196000  100.487000  5.158000   7.692000  3.782000  3.810000  13.969000   \n",
      "1   1.709412  100.257059  5.701765   8.592941  5.245294  5.262941  14.011176   \n",
      "76  0.445778   99.451333  6.483222  16.751444  7.112889  7.130111  26.260222   \n",
      "77  0.453222   99.458556  6.546222  17.416000  7.258556  7.275667  27.095444   \n",
      "80  0.028222   99.385000  6.914667  19.665222  8.088222  8.104667  30.030333   \n",
      "\n",
      "      T2M_MIN  T2M_RANGE         TS     WS10M  WS10M_MAX  WS10M_MIN  \\\n",
      "0    3.687000  10.283000   7.392000  2.666000   4.207000   1.488000   \n",
      "1    4.871765   9.138824   8.114706  2.854706   4.770588   1.411765   \n",
      "76   9.113000  17.146556  18.069556  4.038667   6.016444   2.363889   \n",
      "77   9.567111  17.527778  18.857222  4.037889   6.067778   2.342667   \n",
      "80  11.406556  18.623667  21.508222  4.329667   6.305000   2.667000   \n",
      "\n",
      "    WS10M_RANGE     WS50M  WS50M_MAX  WS50M_MIN  WS50M_RANGE  \n",
      "0      2.719000  4.001000   5.938000   2.173000     3.766000  \n",
      "1      3.357647  4.334118   6.690000   2.225294     4.465294  \n",
      "76     3.651444  5.312556   7.422444   3.193222     4.229556  \n",
      "77     3.724111  5.241556   7.397222   3.097000     4.300889  \n",
      "80     3.637444  5.392444   7.412333   3.372000     4.041000  \n"
     ]
    }
   ],
   "source": [
    "X_int = cal_df2.drop(columns=['fips','score'])\n",
    "print(X_int.head())"
   ]
  },
  {
   "cell_type": "code",
   "execution_count": 70,
   "metadata": {},
   "outputs": [
    {
     "name": "stdout",
     "output_type": "stream",
     "text": [
      "    PRECTOT        PS      QV2M       T2M    T2MDEW    T2MWET   T2M_MAX  \\\n",
      "0  0.015957  0.941229  0.363263  0.343546  0.597658  0.591292  0.336442   \n",
      "1  0.139168  0.932576  0.424361  0.365590  0.651653  0.645891  0.337408   \n",
      "2  0.036292  0.902253  0.512166  0.565207  0.720566  0.716055  0.617858   \n",
      "3  0.036898  0.902525  0.519245  0.581467  0.725941  0.721525  0.636981   \n",
      "4  0.002298  0.899757  0.560644  0.636499  0.756555  0.752677  0.704177   \n",
      "\n",
      "    T2M_MIN  T2M_RANGE        TS     WS10M  WS10M_MAX  WS10M_MIN  WS10M_RANGE  \\\n",
      "0  0.400992   0.426084  0.366207  0.202370   0.281593   0.213717     0.331228   \n",
      "1  0.431559   0.370691  0.381523  0.233815   0.360953   0.199645     0.486784   \n",
      "2  0.540984   0.758370  0.592489  0.431105   0.536384   0.375400     0.558344   \n",
      "3  0.552700   0.776826  0.609181  0.430976   0.543613   0.371482     0.576043   \n",
      "4  0.600158   0.829882  0.665362  0.479596   0.577016   0.431352     0.554934   \n",
      "\n",
      "      WS50M  WS50M_MAX  WS50M_MIN  WS50M_RANGE  \n",
      "0  0.258895   0.320270   0.256664     0.349937  \n",
      "1  0.308030   0.419278   0.264669     0.518200  \n",
      "2  0.452349   0.515711   0.412849     0.461477  \n",
      "3  0.441877   0.512391   0.398119     0.478641  \n",
      "4  0.464133   0.514380   0.440218     0.416107  \n"
     ]
    }
   ],
   "source": [
    "X_int_norm = pd.DataFrame(MinMaxScaler().fit_transform(X_int),columns=X_int.columns)\n",
    "print(X_int_norm.head())"
   ]
  },
  {
   "cell_type": "code",
   "execution_count": 81,
   "metadata": {},
   "outputs": [
    {
     "name": "stdout",
     "output_type": "stream",
     "text": [
      "0        1\n",
      "1        1\n",
      "2        1\n",
      "3        1\n",
      "4        1\n",
      "        ..\n",
      "35778    3\n",
      "35779    3\n",
      "35780    3\n",
      "35781    3\n",
      "35782    3\n",
      "Name: score, Length: 35783, dtype: int32\n"
     ]
    }
   ],
   "source": [
    "y_int = cal_df2.score.astype(int)\n",
    "y_int = y_int.reset_index(drop=True)\n",
    "print(y_int)"
   ]
  },
  {
   "cell_type": "code",
   "execution_count": 82,
   "metadata": {},
   "outputs": [
    {
     "name": "stdout",
     "output_type": "stream",
     "text": [
      "    PRECTOT        PS      QV2M       T2M    T2MDEW    T2MWET   T2M_MAX  \\\n",
      "0  0.015957  0.941229  0.363263  0.343546  0.597658  0.591292  0.336442   \n",
      "1  0.139168  0.932576  0.424361  0.365590  0.651653  0.645891  0.337408   \n",
      "2  0.036292  0.902253  0.512166  0.565207  0.720566  0.716055  0.617858   \n",
      "3  0.036898  0.902525  0.519245  0.581467  0.725941  0.721525  0.636981   \n",
      "4  0.002298  0.899757  0.560644  0.636499  0.756555  0.752677  0.704177   \n",
      "\n",
      "    T2M_MIN  T2M_RANGE        TS     WS10M  WS10M_MAX  WS10M_MIN  WS10M_RANGE  \\\n",
      "0  0.400992   0.426084  0.366207  0.202370   0.281593   0.213717     0.331228   \n",
      "1  0.431559   0.370691  0.381523  0.233815   0.360953   0.199645     0.486784   \n",
      "2  0.540984   0.758370  0.592489  0.431105   0.536384   0.375400     0.558344   \n",
      "3  0.552700   0.776826  0.609181  0.430976   0.543613   0.371482     0.576043   \n",
      "4  0.600158   0.829882  0.665362  0.479596   0.577016   0.431352     0.554934   \n",
      "\n",
      "      WS50M  WS50M_MAX  WS50M_MIN  WS50M_RANGE  score  \n",
      "0  0.258895   0.320270   0.256664     0.349937      1  \n",
      "1  0.308030   0.419278   0.264669     0.518200      1  \n",
      "2  0.452349   0.515711   0.412849     0.461477      1  \n",
      "3  0.441877   0.512391   0.398119     0.478641      1  \n",
      "4  0.464133   0.514380   0.440218     0.416107      1  \n",
      "<class 'pandas.core.frame.DataFrame'>\n",
      "RangeIndex: 35783 entries, 0 to 35782\n",
      "Data columns (total 19 columns):\n",
      " #   Column       Non-Null Count  Dtype  \n",
      "---  ------       --------------  -----  \n",
      " 0   PRECTOT      35783 non-null  float64\n",
      " 1   PS           35783 non-null  float64\n",
      " 2   QV2M         35783 non-null  float64\n",
      " 3   T2M          35783 non-null  float64\n",
      " 4   T2MDEW       35783 non-null  float64\n",
      " 5   T2MWET       35783 non-null  float64\n",
      " 6   T2M_MAX      35783 non-null  float64\n",
      " 7   T2M_MIN      35783 non-null  float64\n",
      " 8   T2M_RANGE    35783 non-null  float64\n",
      " 9   TS           35783 non-null  float64\n",
      " 10  WS10M        35783 non-null  float64\n",
      " 11  WS10M_MAX    35783 non-null  float64\n",
      " 12  WS10M_MIN    35783 non-null  float64\n",
      " 13  WS10M_RANGE  35783 non-null  float64\n",
      " 14  WS50M        35783 non-null  float64\n",
      " 15  WS50M_MAX    35783 non-null  float64\n",
      " 16  WS50M_MIN    35783 non-null  float64\n",
      " 17  WS50M_RANGE  35783 non-null  float64\n",
      " 18  score        35783 non-null  int32  \n",
      "dtypes: float64(18), int32(1)\n",
      "memory usage: 5.1 MB\n",
      "None\n",
      "              PRECTOT        PS      QV2M       T2M    T2MDEW    T2MWET  \\\n",
      "PRECTOT      1.000000 -0.078086 -0.203595 -0.641178 -0.162894 -0.168035   \n",
      "PS          -0.078086  1.000000  0.622190  0.359349  0.754264  0.758071   \n",
      "QV2M        -0.203595  0.622190  1.000000  0.511541  0.973008  0.973034   \n",
      "T2M         -0.641178  0.359349  0.511541  1.000000  0.510100  0.513945   \n",
      "T2MDEW      -0.162894  0.754264  0.973008  0.510100  1.000000  0.999484   \n",
      "T2MWET      -0.168035  0.758071  0.973034  0.513945  0.999484  1.000000   \n",
      "T2M_MAX     -0.668891  0.297077  0.421106  0.983967  0.424423  0.428167   \n",
      "T2M_MIN     -0.587720  0.459527  0.606254  0.975379  0.603739  0.607968   \n",
      "T2M_RANGE   -0.577392 -0.067171 -0.021648  0.668708 -0.009935 -0.008233   \n",
      "TS          -0.640483  0.367400  0.537502  0.994770  0.533011  0.536627   \n",
      "WS10M       -0.177619  0.337746  0.314521  0.090094  0.314835  0.318364   \n",
      "WS10M_MAX   -0.286781  0.243493  0.261486  0.194846  0.244794  0.248647   \n",
      "WS10M_MIN   -0.066828  0.394409  0.357082 -0.018072  0.370764  0.373413   \n",
      "WS10M_RANGE -0.368731 -0.008959  0.053787  0.311062  0.015562  0.018847   \n",
      "WS50M        0.066675  0.292653  0.158082 -0.129470  0.188269  0.190275   \n",
      "WS50M_MAX   -0.011307  0.303924  0.120114  0.017272  0.159370  0.161987   \n",
      "WS50M_MIN    0.108491  0.337782  0.244915 -0.196669  0.271688  0.273214   \n",
      "WS50M_RANGE -0.151648  0.070319 -0.109376  0.269794 -0.079544 -0.077238   \n",
      "score       -0.047068  0.007181  0.098652  0.115106  0.076295  0.079419   \n",
      "\n",
      "              T2M_MAX   T2M_MIN  T2M_RANGE        TS     WS10M  WS10M_MAX  \\\n",
      "PRECTOT     -0.668891 -0.587720  -0.577392 -0.640483 -0.177619  -0.286781   \n",
      "PS           0.297077  0.459527  -0.067171  0.367400  0.337746   0.243493   \n",
      "QV2M         0.421106  0.606254  -0.021648  0.537502  0.314521   0.261486   \n",
      "T2M          0.983967  0.975379   0.668708  0.994770  0.090094   0.194846   \n",
      "T2MDEW       0.424423  0.603739  -0.009935  0.533011  0.314835   0.244794   \n",
      "T2MWET       0.428167  0.607968  -0.008233  0.536627  0.318364   0.248647   \n",
      "T2M_MAX      1.000000  0.925548   0.786753  0.979228  0.043428   0.165322   \n",
      "T2M_MIN      0.925548  1.000000   0.494460  0.968297  0.144375   0.220569   \n",
      "T2M_RANGE    0.786753  0.494460   1.000000  0.669374 -0.135677   0.019932   \n",
      "TS           0.979228  0.968297   0.669374  1.000000  0.149528   0.256861   \n",
      "WS10M        0.043428  0.144375  -0.135677  0.149528  1.000000   0.936865   \n",
      "WS10M_MAX    0.165322  0.220569   0.019932  0.256861  0.936865   1.000000   \n",
      "WS10M_MIN   -0.061799  0.047907  -0.219971  0.035465  0.925344   0.759154   \n",
      "WS10M_RANGE  0.308239  0.286931   0.239831  0.353524  0.530339   0.784029   \n",
      "WS50M       -0.166940 -0.081746  -0.249968 -0.077202  0.918083   0.783449   \n",
      "WS50M_MAX   -0.007975  0.038719  -0.081432  0.069568  0.886622   0.847729   \n",
      "WS50M_MIN   -0.233561 -0.135566  -0.315166 -0.145033  0.855330   0.658025   \n",
      "WS50M_RANGE  0.274825  0.228874   0.257770  0.289878  0.365249   0.545964   \n",
      "score        0.109583  0.125969   0.046202  0.109343 -0.042784   0.004327   \n",
      "\n",
      "             WS10M_MIN  WS10M_RANGE     WS50M  WS50M_MAX  WS50M_MIN  \\\n",
      "PRECTOT      -0.066828    -0.368731  0.066675  -0.011307   0.108491   \n",
      "PS            0.394409    -0.008959  0.292653   0.303924   0.337782   \n",
      "QV2M          0.357082     0.053787  0.158082   0.120114   0.244915   \n",
      "T2M          -0.018072     0.311062 -0.129470   0.017272  -0.196669   \n",
      "T2MDEW        0.370764     0.015562  0.188269   0.159370   0.271688   \n",
      "T2MWET        0.373413     0.018847  0.190275   0.161987   0.273214   \n",
      "T2M_MAX      -0.061799     0.308239 -0.166940  -0.007975  -0.233561   \n",
      "T2M_MIN       0.047907     0.286931 -0.081746   0.038719  -0.135566   \n",
      "T2M_RANGE    -0.219971     0.239831 -0.249968  -0.081432  -0.315166   \n",
      "TS            0.035465     0.353524 -0.077202   0.069568  -0.145033   \n",
      "WS10M         0.925344     0.530339  0.918083   0.886622   0.855330   \n",
      "WS10M_MAX     0.759154     0.784029  0.783449   0.847729   0.658025   \n",
      "WS10M_MIN     1.000000     0.191162  0.904277   0.784592   0.962441   \n",
      "WS10M_RANGE   0.191162     1.000000  0.319086   0.530154   0.074480   \n",
      "WS50M         0.904277     0.319086  1.000000   0.933712   0.929643   \n",
      "WS50M_MAX     0.784592     0.530154  0.933712   1.000000   0.780629   \n",
      "WS50M_MIN     0.962441     0.074480  0.929643   0.780629   1.000000   \n",
      "WS50M_RANGE   0.070140     0.756419  0.349077   0.638601   0.017553   \n",
      "score        -0.073458     0.076590 -0.084005  -0.048338  -0.096764   \n",
      "\n",
      "             WS50M_RANGE     score  \n",
      "PRECTOT        -0.151648 -0.047068  \n",
      "PS              0.070319  0.007181  \n",
      "QV2M           -0.109376  0.098652  \n",
      "T2M             0.269794  0.115106  \n",
      "T2MDEW         -0.079544  0.076295  \n",
      "T2MWET         -0.077238  0.079419  \n",
      "T2M_MAX         0.274825  0.109583  \n",
      "T2M_MIN         0.228874  0.125969  \n",
      "T2M_RANGE       0.257770  0.046202  \n",
      "TS              0.289878  0.109343  \n",
      "WS10M           0.365249 -0.042784  \n",
      "WS10M_MAX       0.545964  0.004327  \n",
      "WS10M_MIN       0.070140 -0.073458  \n",
      "WS10M_RANGE     0.756419  0.076590  \n",
      "WS50M           0.349077 -0.084005  \n",
      "WS50M_MAX       0.638601 -0.048338  \n",
      "WS50M_MIN       0.017553 -0.096764  \n",
      "WS50M_RANGE     1.000000  0.041805  \n",
      "score           0.041805  1.000000  \n"
     ]
    }
   ],
   "source": [
    "X_int_norm_corr = X_int_norm\n",
    "X_int_norm_corr['score'] = y_int\n",
    "print(X_int_norm_corr.head())\n",
    "data_int = X_int_norm_corr\n",
    "print(data_int.info())\n",
    "data_int_corr = data_int.corr()\n",
    "print(data_int_corr)"
   ]
  },
  {
   "cell_type": "code",
   "execution_count": 83,
   "metadata": {},
   "outputs": [
    {
     "data": {
      "image/png": "[encoded data removed]",
      "text/plain": [
       "<Figure size 432x288 with 2 Axes>"
      ]
     },
     "metadata": {
      "needs_background": "light"
     },
     "output_type": "display_data"
    }
   ],
   "source": [
    "ax_int = sns.heatmap(data_corr,vmin=-1,vmax=1,center=0,cmap=sns.diverging_palette(20,220,n=200),square=True)"
   ]
  },
  {
   "cell_type": "code",
   "execution_count": 84,
   "metadata": {},
   "outputs": [
    {
     "name": "stdout",
     "output_type": "stream",
     "text": [
      "             PRECTOT        PS      QV2M       T2M    T2MDEW    T2MWET  \\\n",
      "PRECTOT          NaN -0.078086 -0.203595 -0.641178 -0.162894 -0.168035   \n",
      "PS               NaN       NaN  0.622190  0.359349  0.754264  0.758071   \n",
      "QV2M             NaN       NaN       NaN  0.511541  0.973008  0.973034   \n",
      "T2M              NaN       NaN       NaN       NaN  0.510100  0.513945   \n",
      "T2MDEW           NaN       NaN       NaN       NaN       NaN  0.999484   \n",
      "T2MWET           NaN       NaN       NaN       NaN       NaN       NaN   \n",
      "T2M_MAX          NaN       NaN       NaN       NaN       NaN       NaN   \n",
      "T2M_MIN          NaN       NaN       NaN       NaN       NaN       NaN   \n",
      "T2M_RANGE        NaN       NaN       NaN       NaN       NaN       NaN   \n",
      "TS               NaN       NaN       NaN       NaN       NaN       NaN   \n",
      "WS10M            NaN       NaN       NaN       NaN       NaN       NaN   \n",
      "WS10M_MAX        NaN       NaN       NaN       NaN       NaN       NaN   \n",
      "WS10M_MIN        NaN       NaN       NaN       NaN       NaN       NaN   \n",
      "WS10M_RANGE      NaN       NaN       NaN       NaN       NaN       NaN   \n",
      "WS50M            NaN       NaN       NaN       NaN       NaN       NaN   \n",
      "WS50M_MAX        NaN       NaN       NaN       NaN       NaN       NaN   \n",
      "WS50M_MIN        NaN       NaN       NaN       NaN       NaN       NaN   \n",
      "WS50M_RANGE      NaN       NaN       NaN       NaN       NaN       NaN   \n",
      "score            NaN       NaN       NaN       NaN       NaN       NaN   \n",
      "\n",
      "              T2M_MAX   T2M_MIN  T2M_RANGE        TS     WS10M  WS10M_MAX  \\\n",
      "PRECTOT     -0.668891 -0.587720  -0.577392 -0.640483 -0.177619  -0.286781   \n",
      "PS           0.297077  0.459527  -0.067171  0.367400  0.337746   0.243493   \n",
      "QV2M         0.421106  0.606254  -0.021648  0.537502  0.314521   0.261486   \n",
      "T2M          0.983967  0.975379   0.668708  0.994770  0.090094   0.194846   \n",
      "T2MDEW       0.424423  0.603739  -0.009935  0.533011  0.314835   0.244794   \n",
      "T2MWET       0.428167  0.607968  -0.008233  0.536627  0.318364   0.248647   \n",
      "T2M_MAX           NaN  0.925548   0.786753  0.979228  0.043428   0.165322   \n",
      "T2M_MIN           NaN       NaN   0.494460  0.968297  0.144375   0.220569   \n",
      "T2M_RANGE         NaN       NaN        NaN  0.669374 -0.135677   0.019932   \n",
      "TS                NaN       NaN        NaN       NaN  0.149528   0.256861   \n",
      "WS10M             NaN       NaN        NaN       NaN       NaN   0.936865   \n",
      "WS10M_MAX         NaN       NaN        NaN       NaN       NaN        NaN   \n",
      "WS10M_MIN         NaN       NaN        NaN       NaN       NaN        NaN   \n",
      "WS10M_RANGE       NaN       NaN        NaN       NaN       NaN        NaN   \n",
      "WS50M             NaN       NaN        NaN       NaN       NaN        NaN   \n",
      "WS50M_MAX         NaN       NaN        NaN       NaN       NaN        NaN   \n",
      "WS50M_MIN         NaN       NaN        NaN       NaN       NaN        NaN   \n",
      "WS50M_RANGE       NaN       NaN        NaN       NaN       NaN        NaN   \n",
      "score             NaN       NaN        NaN       NaN       NaN        NaN   \n",
      "\n",
      "             WS10M_MIN  WS10M_RANGE     WS50M  WS50M_MAX  WS50M_MIN  \\\n",
      "PRECTOT      -0.066828    -0.368731  0.066675  -0.011307   0.108491   \n",
      "PS            0.394409    -0.008959  0.292653   0.303924   0.337782   \n",
      "QV2M          0.357082     0.053787  0.158082   0.120114   0.244915   \n",
      "T2M          -0.018072     0.311062 -0.129470   0.017272  -0.196669   \n",
      "T2MDEW        0.370764     0.015562  0.188269   0.159370   0.271688   \n",
      "T2MWET        0.373413     0.018847  0.190275   0.161987   0.273214   \n",
      "T2M_MAX      -0.061799     0.308239 -0.166940  -0.007975  -0.233561   \n",
      "T2M_MIN       0.047907     0.286931 -0.081746   0.038719  -0.135566   \n",
      "T2M_RANGE    -0.219971     0.239831 -0.249968  -0.081432  -0.315166   \n",
      "TS            0.035465     0.353524 -0.077202   0.069568  -0.145033   \n",
      "WS10M         0.925344     0.530339  0.918083   0.886622   0.855330   \n",
      "WS10M_MAX     0.759154     0.784029  0.783449   0.847729   0.658025   \n",
      "WS10M_MIN          NaN     0.191162  0.904277   0.784592   0.962441   \n",
      "WS10M_RANGE        NaN          NaN  0.319086   0.530154   0.074480   \n",
      "WS50M              NaN          NaN       NaN   0.933712   0.929643   \n",
      "WS50M_MAX          NaN          NaN       NaN        NaN   0.780629   \n",
      "WS50M_MIN          NaN          NaN       NaN        NaN        NaN   \n",
      "WS50M_RANGE        NaN          NaN       NaN        NaN        NaN   \n",
      "score              NaN          NaN       NaN        NaN        NaN   \n",
      "\n",
      "             WS50M_RANGE     score  \n",
      "PRECTOT        -0.151648 -0.047068  \n",
      "PS              0.070319  0.007181  \n",
      "QV2M           -0.109376  0.098652  \n",
      "T2M             0.269794  0.115106  \n",
      "T2MDEW         -0.079544  0.076295  \n",
      "T2MWET         -0.077238  0.079419  \n",
      "T2M_MAX         0.274825  0.109583  \n",
      "T2M_MIN         0.228874  0.125969  \n",
      "T2M_RANGE       0.257770  0.046202  \n",
      "TS              0.289878  0.109343  \n",
      "WS10M           0.365249 -0.042784  \n",
      "WS10M_MAX       0.545964  0.004327  \n",
      "WS10M_MIN       0.070140 -0.073458  \n",
      "WS10M_RANGE     0.756419  0.076590  \n",
      "WS50M           0.349077 -0.084005  \n",
      "WS50M_MAX       0.638601 -0.048338  \n",
      "WS50M_MIN       0.017553 -0.096764  \n",
      "WS50M_RANGE          NaN  0.041805  \n",
      "score                NaN       NaN  \n"
     ]
    }
   ],
   "source": [
    "upper_tri_int = data_int_corr.where(np.triu(np.ones(data_int_corr.shape),k=1).astype(np.bool))\n",
    "print(upper_tri_int)"
   ]
  },
  {
   "cell_type": "code",
   "execution_count": 85,
   "metadata": {},
   "outputs": [
    {
     "name": "stdout",
     "output_type": "stream",
     "text": [
      "['T2MDEW', 'T2MWET', 'T2M_MAX', 'T2M_MIN', 'TS', 'WS50M_MIN']\n"
     ]
    }
   ],
   "source": [
    "to_drop_int = [column for column in upper_tri_int.columns if any(upper_tri_int[column] > 0.95)]\n",
    "print(to_drop_int)"
   ]
  },
  {
   "cell_type": "code",
   "execution_count": 86,
   "metadata": {},
   "outputs": [
    {
     "name": "stdout",
     "output_type": "stream",
     "text": [
      "    PRECTOT        PS      QV2M       T2M  T2M_RANGE     WS10M  WS10M_MAX  \\\n",
      "0  0.015957  0.941229  0.363263  0.343546   0.426084  0.202370   0.281593   \n",
      "1  0.139168  0.932576  0.424361  0.365590   0.370691  0.233815   0.360953   \n",
      "2  0.036292  0.902253  0.512166  0.565207   0.758370  0.431105   0.536384   \n",
      "3  0.036898  0.902525  0.519245  0.581467   0.776826  0.430976   0.543613   \n",
      "4  0.002298  0.899757  0.560644  0.636499   0.829882  0.479596   0.577016   \n",
      "\n",
      "   WS10M_MIN  WS10M_RANGE     WS50M  WS50M_MAX  WS50M_RANGE  \n",
      "0   0.213717     0.331228  0.258895   0.320270     0.349937  \n",
      "1   0.199645     0.486784  0.308030   0.419278     0.518200  \n",
      "2   0.375400     0.558344  0.452349   0.515711     0.461477  \n",
      "3   0.371482     0.576043  0.441877   0.512391     0.478641  \n",
      "4   0.431352     0.554934  0.464133   0.514380     0.416107  \n"
     ]
    }
   ],
   "source": [
    "X_norm_int_d = X_int_norm.drop(columns = to_drop, axis=1)\n",
    "X_norm_int_d = X_norm_int_d.drop(columns = ['score'], axis=1)\n",
    "print(X_norm_int_d.head())"
   ]
  },
  {
   "cell_type": "code",
   "execution_count": 72,
   "metadata": {},
   "outputs": [
    {
     "name": "stdout",
     "output_type": "stream",
     "text": [
      "(25048, 18)\n",
      "(10735, 18)\n",
      "(25048,)\n",
      "(10735,)\n"
     ]
    }
   ],
   "source": [
    "# split the features and labels dataframe into training and testing dataset\n",
    "xtrainm , xtestm , ytrainm, ytestm = train_test_split(X_int_norm,y_int, random_state = 42, test_size = 0.30, shuffle = True)\n",
    "\n",
    "print(xtrainm.shape)\n",
    "print(xtestm.shape)\n",
    "print(ytrainm.shape)\n",
    "print(ytestm.shape)"
   ]
  },
  {
   "cell_type": "code",
   "execution_count": 87,
   "metadata": {},
   "outputs": [
    {
     "name": "stdout",
     "output_type": "stream",
     "text": [
      "(25048, 12)\n",
      "(10735, 12)\n",
      "(25048,)\n",
      "(10735,)\n"
     ]
    }
   ],
   "source": [
    "xtraind_int, xtestd_int, ytraind_int, ytestd_int = train_test_split(X_norm_int_d, y_int, random_state = 42, test_size = 0.30, shuffle = True)\n",
    "print(xtraind_int.shape)\n",
    "print(xtestd_int.shape)\n",
    "print(ytraind_int.shape)\n",
    "print(ytestd_int.shape)"
   ]
  },
  {
   "cell_type": "code",
   "execution_count": 88,
   "metadata": {},
   "outputs": [],
   "source": [
    "ovr_svm_clf = OneVsRestClassifier(RandomForestClassifier(n_estimators = 100, random_state = 42)).fit(xtrainm,ytrainm)"
   ]
  },
  {
   "cell_type": "code",
   "execution_count": 89,
   "metadata": {},
   "outputs": [],
   "source": [
    "y_pred_ovr = ovr_svm_clf.predict(xtestm)"
   ]
  },
  {
   "cell_type": "code",
   "execution_count": 90,
   "metadata": {},
   "outputs": [
    {
     "name": "stdout",
     "output_type": "stream",
     "text": [
      "accuracy_score: 0.7224033535165347\n",
      "f1_score: 0.7224033535165348\n",
      "              precision    recall  f1-score   support\n",
      "\n",
      "           1       0.72      0.77      0.75      3126\n",
      "           2       0.67      0.75      0.71      2970\n",
      "           3       0.71      0.71      0.71      2323\n",
      "           4       0.81      0.57      0.67      1164\n",
      "           5       0.84      0.71      0.77      1152\n",
      "\n",
      "    accuracy                           0.72     10735\n",
      "   macro avg       0.75      0.70      0.72     10735\n",
      "weighted avg       0.73      0.72      0.72     10735\n",
      "\n"
     ]
    }
   ],
   "source": [
    "# evaluating f1-score\n",
    "print(\"accuracy_score:\", accuracy_score(ytestm,y_pred_ovr))\n",
    "print(\"f1_score:\", f1_score(ytestm,y_pred_ovr,average = 'micro'))\n",
    "print(classification_report(ytestm,y_pred_ovr))"
   ]
  },
  {
   "cell_type": "code",
   "execution_count": 91,
   "metadata": {},
   "outputs": [],
   "source": [
    "ovr_svm_clfd = OneVsRestClassifier(RandomForestClassifier(n_estimators = 100, random_state = 42)).fit(xtraind_int,ytraind_int)"
   ]
  },
  {
   "cell_type": "code",
   "execution_count": 92,
   "metadata": {},
   "outputs": [],
   "source": [
    "y_pred_ovrd = ovr_svm_clfd.predict(xtestd_int)"
   ]
  },
  {
   "cell_type": "code",
   "execution_count": 93,
   "metadata": {},
   "outputs": [
    {
     "name": "stdout",
     "output_type": "stream",
     "text": [
      "accuracy_score: 0.7308802980903586\n",
      "f1_score: 0.7308802980903586\n",
      "              precision    recall  f1-score   support\n",
      "\n",
      "           1       0.73      0.78      0.75      3126\n",
      "           2       0.68      0.76      0.72      2970\n",
      "           3       0.71      0.72      0.71      2323\n",
      "           4       0.82      0.60      0.69      1164\n",
      "           5       0.87      0.71      0.78      1152\n",
      "\n",
      "    accuracy                           0.73     10735\n",
      "   macro avg       0.76      0.71      0.73     10735\n",
      "weighted avg       0.74      0.73      0.73     10735\n",
      "\n"
     ]
    }
   ],
   "source": [
    "# evaluating f1-score\n",
    "print(\"accuracy_score:\", accuracy_score(ytestd_int,y_pred_ovrd))\n",
    "print(\"f1_score:\", f1_score(ytestd_int,y_pred_ovrd,average = 'micro'))\n",
    "print(classification_report(ytestd_int,y_pred_ovrd))"
   ]
  },
  {
   "cell_type": "code",
   "execution_count": 49,
   "metadata": {},
   "outputs": [
    {
     "data": {
      "text/plain": [
       "VotingClassifier(estimators=[('rff1', RandomForestClassifier(random_state=42)),\n",
       "                             ('rff2',\n",
       "                              RandomForestClassifier(n_estimators=500,\n",
       "                                                     random_state=42)),\n",
       "                             ('rff3',\n",
       "                              RandomForestClassifier(n_estimators=500,\n",
       "                                                     random_state=42))],\n",
       "                 voting='soft')"
      ]
     },
     "execution_count": 49,
     "metadata": {},
     "output_type": "execute_result"
    }
   ],
   "source": [
    "estimators_ovr = [('rff1',RandomForestClassifier(n_estimators = 100, random_state = 42)),('rff2',RandomForestClassifier(n_estimators = 500, random_state = 42)),('rff3',RandomForestClassifier(n_estimators = 500, random_state = 42))]\n",
    "\n",
    "# define a VotingClassifier model and fit on xtrain and ytrain\n",
    "ensemble_ovr = VotingClassifier(estimators_ovr, voting='soft')\n",
    "ensemble_ovr.fit(xtrainm, ytrainm)"
   ]
  },
  {
   "cell_type": "code",
   "execution_count": 50,
   "metadata": {},
   "outputs": [],
   "source": [
    "# predict with the help of trained VotingClassifier model\n",
    "y_pred_ensemble_ovr = ensemble_ovr.predict(xtestm)"
   ]
  },
  {
   "cell_type": "code",
   "execution_count": 51,
   "metadata": {},
   "outputs": [
    {
     "name": "stdout",
     "output_type": "stream",
     "text": [
      "accuracy_score: 0.7328365160689334\n",
      "f1_score: 0.7328365160689334\n",
      "              precision    recall  f1-score   support\n",
      "\n",
      "           1       0.73      0.78      0.76      3126\n",
      "           2       0.67      0.76      0.71      2970\n",
      "           3       0.73      0.72      0.73      2323\n",
      "           4       0.83      0.60      0.69      1164\n",
      "           5       0.86      0.70      0.77      1152\n",
      "\n",
      "    accuracy                           0.73     10735\n",
      "   macro avg       0.77      0.71      0.73     10735\n",
      "weighted avg       0.74      0.73      0.73     10735\n",
      "\n"
     ]
    }
   ],
   "source": [
    "# evaluating f1-score\n",
    "print(\"accuracy_score:\", accuracy_score(ytestm,y_pred_ensemble_ovr))\n",
    "print(\"f1_score:\", f1_score(ytestm,y_pred_ensemble_ovr,average = 'micro'))\n",
    "print(classification_report(ytestm,y_pred_ensemble_ovr))"
   ]
  }
 ],
 "metadata": {
  "kernelspec": {
   "display_name": "Python 3",
   "language": "python",
   "name": "python3"
  },
  "language_info": {
   "codemirror_mode": {
    "name": "ipython",
    "version": 3
   },
   "file_extension": ".py",
   "mimetype": "text/x-python",
   "name": "python",
   "nbconvert_exporter": "python",
   "pygments_lexer": "ipython3",
   "version": "3.8.3"
  }
 },
 "nbformat": 4,
 "nbformat_minor": 4
}
