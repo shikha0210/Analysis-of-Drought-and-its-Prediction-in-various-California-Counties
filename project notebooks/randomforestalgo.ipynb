{
 "cells": [
  {
   "cell_type": "code",
   "execution_count": 2,
   "metadata": {},
   "outputs": [],
   "source": [
    "import numpy as np\n",
    "import matplotlib.pyplot as plt\n",
    "import pandas as pd\n",
    "import numpy as np\n",
    "from sklearn                        import metrics, svm\n",
    "from sklearn.linear_model           import LogisticRegression\n",
    "from sklearn import preprocessing\n",
    "from sklearn import utils\n",
    "from sklearn.model_selection import train_test_split\n",
    "from sklearn.neighbors import KNeighborsClassifier\n",
    "import seaborn as sns\n"
   ]
  },
  {
   "cell_type": "code",
   "execution_count": 3,
   "metadata": {},
   "outputs": [
    {
     "name": "stdout",
     "output_type": "stream",
     "text": [
      "       Unnamed: 0    fips   PRECTOT          PS      QV2M        T2M  \\\n",
      "0               0  6001.0  0.196000  100.487000  5.158000   7.692000   \n",
      "1               0  6001.0  1.709412  100.257059  5.701765   8.592941   \n",
      "2               0  6001.0  5.068333  100.105833  6.274583   9.290833   \n",
      "3               0  6001.0  4.312581  100.076129  6.227097   9.242903   \n",
      "4               0  6001.0  3.762632  100.067105  6.358947   9.557368   \n",
      "...           ...     ...       ...         ...       ...        ...   \n",
      "63563           0  6115.0  0.586000   95.797222  3.967889  16.987444   \n",
      "63564           0  6115.0  1.059778   95.826000  3.981444  15.774889   \n",
      "63565           0  6115.0  1.363333   95.881111  3.865667  14.584333   \n",
      "63566           0  6115.0  1.706778   95.900556  3.775444  13.172000   \n",
      "63567           0  6115.0  1.894186   95.929302  3.846860  11.910581   \n",
      "\n",
      "         T2MDEW    T2MWET    T2M_MAX    T2M_MIN  ...         TS     WS10M  \\\n",
      "0      3.782000  3.810000  13.969000   3.687000  ...   7.392000  2.666000   \n",
      "1      5.245294  5.262941  14.011176   4.871765  ...   8.114706  2.854706   \n",
      "2      6.589167  6.601667  14.182917   5.894167  ...   8.776250  2.808750   \n",
      "3      6.543226  6.553871  14.189677   5.745484  ...   8.753548  2.783871   \n",
      "4      6.895263  6.903947  14.776316   5.984211  ...   8.990000  2.743158   \n",
      "...         ...       ...        ...        ...  ...        ...       ...   \n",
      "63563 -0.969000 -0.422778  25.221556  11.087333  ...  16.093444  2.624444   \n",
      "63564 -0.911556 -0.120444  23.802333  10.094667  ...  14.893667  2.644556   \n",
      "63565 -1.221556 -0.182556  22.430444   9.108778  ...  13.545556  2.597889   \n",
      "63566 -1.462889 -0.192333  20.816889   7.925000  ...  12.086444  2.616889   \n",
      "63567 -1.190465  0.204419  19.403953   6.821279  ...  10.898372  2.645465   \n",
      "\n",
      "       WS10M_MAX  WS10M_MIN  WS10M_RANGE     WS50M  WS50M_MAX  WS50M_MIN  \\\n",
      "0       4.207000   1.488000     2.719000  4.001000   5.938000   2.173000   \n",
      "1       4.770588   1.411765     3.357647  4.334118   6.690000   2.225294   \n",
      "2       4.680000   1.409583     3.270417  4.319583   6.540833   2.277500   \n",
      "3       4.532903   1.407419     3.124839  4.286129   6.458065   2.277419   \n",
      "4       4.506579   1.361316     3.144474  4.222368   6.416842   2.210263   \n",
      "...          ...        ...          ...       ...        ...        ...   \n",
      "63563   3.853333   1.063889     2.789556  4.271778   6.571111   1.630778   \n",
      "63564   3.908111   1.053111     2.854778  4.335111   6.682444   1.628556   \n",
      "63565   3.864000   0.988111     2.875556  4.265222   6.674000   1.499111   \n",
      "63566   3.894222   0.998889     2.894889  4.311444   6.716778   1.537667   \n",
      "63567   3.944884   1.037907     2.906628  4.387326   6.815000   1.603721   \n",
      "\n",
      "       WS50M_RANGE   score  \n",
      "0         3.766000  0.6079  \n",
      "1         4.465294  0.5036  \n",
      "2         4.263333  0.0000  \n",
      "3         4.180968  0.0000  \n",
      "4         4.207105  0.0000  \n",
      "...            ...     ...  \n",
      "63563     4.940444  3.2744  \n",
      "63564     5.054111  3.2744  \n",
      "63565     5.175111  3.2744  \n",
      "63566     5.179222  3.2744  \n",
      "63567     5.211279  3.2744  \n",
      "\n",
      "[63568 rows x 21 columns]\n"
     ]
    }
   ],
   "source": [
    "f = pd.read_csv (r'C:\\Users\\shahb\\OneDrive\\Desktop\\ninety_days_aggregated_data_ca_drought.csv')\n",
    "print(f)"
   ]
  },
  {
   "cell_type": "code",
   "execution_count": 4,
   "metadata": {},
   "outputs": [
    {
     "name": "stdout",
     "output_type": "stream",
     "text": [
      "        PRECTOT          PS      QV2M        T2M    T2MDEW    T2MWET  \\\n",
      "0      0.196000  100.487000  5.158000   7.692000  3.782000  3.810000   \n",
      "1      1.709412  100.257059  5.701765   8.592941  5.245294  5.262941   \n",
      "2      5.068333  100.105833  6.274583   9.290833  6.589167  6.601667   \n",
      "3      4.312581  100.076129  6.227097   9.242903  6.543226  6.553871   \n",
      "4      3.762632  100.067105  6.358947   9.557368  6.895263  6.903947   \n",
      "...         ...         ...       ...        ...       ...       ...   \n",
      "63563  0.586000   95.797222  3.967889  16.987444 -0.969000 -0.422778   \n",
      "63564  1.059778   95.826000  3.981444  15.774889 -0.911556 -0.120444   \n",
      "63565  1.363333   95.881111  3.865667  14.584333 -1.221556 -0.182556   \n",
      "63566  1.706778   95.900556  3.775444  13.172000 -1.462889 -0.192333   \n",
      "63567  1.894186   95.929302  3.846860  11.910581 -1.190465  0.204419   \n",
      "\n",
      "         T2M_MAX    T2M_MIN  T2M_RANGE         TS     WS10M  WS10M_MAX  \\\n",
      "0      13.969000   3.687000  10.283000   7.392000  2.666000   4.207000   \n",
      "1      14.011176   4.871765   9.138824   8.114706  2.854706   4.770588   \n",
      "2      14.182917   5.894167   8.288750   8.776250  2.808750   4.680000   \n",
      "3      14.189677   5.745484   8.443871   8.753548  2.783871   4.532903   \n",
      "4      14.776316   5.984211   8.791579   8.990000  2.743158   4.506579   \n",
      "...          ...        ...        ...        ...       ...        ...   \n",
      "63563  25.221556  11.087333  14.134667  16.093444  2.624444   3.853333   \n",
      "63564  23.802333  10.094667  13.707778  14.893667  2.644556   3.908111   \n",
      "63565  22.430444   9.108778  13.321889  13.545556  2.597889   3.864000   \n",
      "63566  20.816889   7.925000  12.892333  12.086444  2.616889   3.894222   \n",
      "63567  19.403953   6.821279  12.582907  10.898372  2.645465   3.944884   \n",
      "\n",
      "       WS10M_MIN  WS10M_RANGE     WS50M  WS50M_MAX  WS50M_MIN  WS50M_RANGE  \\\n",
      "0       1.488000     2.719000  4.001000   5.938000   2.173000     3.766000   \n",
      "1       1.411765     3.357647  4.334118   6.690000   2.225294     4.465294   \n",
      "2       1.409583     3.270417  4.319583   6.540833   2.277500     4.263333   \n",
      "3       1.407419     3.124839  4.286129   6.458065   2.277419     4.180968   \n",
      "4       1.361316     3.144474  4.222368   6.416842   2.210263     4.207105   \n",
      "...          ...          ...       ...        ...        ...          ...   \n",
      "63563   1.063889     2.789556  4.271778   6.571111   1.630778     4.940444   \n",
      "63564   1.053111     2.854778  4.335111   6.682444   1.628556     5.054111   \n",
      "63565   0.988111     2.875556  4.265222   6.674000   1.499111     5.175111   \n",
      "63566   0.998889     2.894889  4.311444   6.716778   1.537667     5.179222   \n",
      "63567   1.037907     2.906628  4.387326   6.815000   1.603721     5.211279   \n",
      "\n",
      "        score  \n",
      "0      0.6079  \n",
      "1      0.5036  \n",
      "2      0.0000  \n",
      "3      0.0000  \n",
      "4      0.0000  \n",
      "...       ...  \n",
      "63563  3.2744  \n",
      "63564  3.2744  \n",
      "63565  3.2744  \n",
      "63566  3.2744  \n",
      "63567  3.2744  \n",
      "\n",
      "[63568 rows x 19 columns]\n"
     ]
    }
   ],
   "source": [
    "s=f.drop(['Unnamed: 0','fips'], 1)\n",
    "print(s)"
   ]
  },
  {
   "cell_type": "code",
   "execution_count": 5,
   "metadata": {},
   "outputs": [
    {
     "name": "stdout",
     "output_type": "stream",
     "text": [
      "0        1.0\n",
      "1        1.0\n",
      "2        0.0\n",
      "3        0.0\n",
      "4        0.0\n",
      "        ... \n",
      "63563    3.0\n",
      "63564    3.0\n",
      "63565    3.0\n",
      "63566    3.0\n",
      "63567    3.0\n",
      "Name: score, Length: 63568, dtype: float64\n",
      "0.0    27785\n",
      "1.0    10371\n",
      "2.0     9985\n",
      "3.0     7722\n",
      "4.0     3911\n",
      "5.0     3794\n",
      "Name: score, dtype: int64\n"
     ]
    }
   ],
   "source": [
    "s['score'] = s['score'].round()\n",
    "print(s.score)\n",
    "print(s.score.value_counts())"
   ]
  },
  {
   "cell_type": "code",
   "execution_count": 6,
   "metadata": {},
   "outputs": [
    {
     "name": "stdout",
     "output_type": "stream",
     "text": [
      "        PRECTOT          PS      QV2M        T2M    T2MDEW    T2MWET  \\\n",
      "0      0.196000  100.487000  5.158000   7.692000  3.782000  3.810000   \n",
      "1      1.709412  100.257059  5.701765   8.592941  5.245294  5.262941   \n",
      "2      5.068333  100.105833  6.274583   9.290833  6.589167  6.601667   \n",
      "3      4.312581  100.076129  6.227097   9.242903  6.543226  6.553871   \n",
      "4      3.762632  100.067105  6.358947   9.557368  6.895263  6.903947   \n",
      "...         ...         ...       ...        ...       ...       ...   \n",
      "63563  0.586000   95.797222  3.967889  16.987444 -0.969000 -0.422778   \n",
      "63564  1.059778   95.826000  3.981444  15.774889 -0.911556 -0.120444   \n",
      "63565  1.363333   95.881111  3.865667  14.584333 -1.221556 -0.182556   \n",
      "63566  1.706778   95.900556  3.775444  13.172000 -1.462889 -0.192333   \n",
      "63567  1.894186   95.929302  3.846860  11.910581 -1.190465  0.204419   \n",
      "\n",
      "         T2M_MAX    T2M_MIN  T2M_RANGE         TS     WS10M  WS10M_MAX  \\\n",
      "0      13.969000   3.687000  10.283000   7.392000  2.666000   4.207000   \n",
      "1      14.011176   4.871765   9.138824   8.114706  2.854706   4.770588   \n",
      "2      14.182917   5.894167   8.288750   8.776250  2.808750   4.680000   \n",
      "3      14.189677   5.745484   8.443871   8.753548  2.783871   4.532903   \n",
      "4      14.776316   5.984211   8.791579   8.990000  2.743158   4.506579   \n",
      "...          ...        ...        ...        ...       ...        ...   \n",
      "63563  25.221556  11.087333  14.134667  16.093444  2.624444   3.853333   \n",
      "63564  23.802333  10.094667  13.707778  14.893667  2.644556   3.908111   \n",
      "63565  22.430444   9.108778  13.321889  13.545556  2.597889   3.864000   \n",
      "63566  20.816889   7.925000  12.892333  12.086444  2.616889   3.894222   \n",
      "63567  19.403953   6.821279  12.582907  10.898372  2.645465   3.944884   \n",
      "\n",
      "       WS10M_MIN  WS10M_RANGE     WS50M  WS50M_MAX  WS50M_MIN  WS50M_RANGE  \\\n",
      "0       1.488000     2.719000  4.001000   5.938000   2.173000     3.766000   \n",
      "1       1.411765     3.357647  4.334118   6.690000   2.225294     4.465294   \n",
      "2       1.409583     3.270417  4.319583   6.540833   2.277500     4.263333   \n",
      "3       1.407419     3.124839  4.286129   6.458065   2.277419     4.180968   \n",
      "4       1.361316     3.144474  4.222368   6.416842   2.210263     4.207105   \n",
      "...          ...          ...       ...        ...        ...          ...   \n",
      "63563   1.063889     2.789556  4.271778   6.571111   1.630778     4.940444   \n",
      "63564   1.053111     2.854778  4.335111   6.682444   1.628556     5.054111   \n",
      "63565   0.988111     2.875556  4.265222   6.674000   1.499111     5.175111   \n",
      "63566   0.998889     2.894889  4.311444   6.716778   1.537667     5.179222   \n",
      "63567   1.037907     2.906628  4.387326   6.815000   1.603721     5.211279   \n",
      "\n",
      "       score  \n",
      "0        1.0  \n",
      "1        1.0  \n",
      "2        0.0  \n",
      "3        0.0  \n",
      "4        0.0  \n",
      "...      ...  \n",
      "63563    1.0  \n",
      "63564    1.0  \n",
      "63565    1.0  \n",
      "63566    1.0  \n",
      "63567    1.0  \n",
      "\n",
      "[63568 rows x 19 columns]\n"
     ]
    }
   ],
   "source": [
    "s['score'] = s[\"score\"].replace([2,3,4,5],1)\n",
    "print(s)\n"
   ]
  },
  {
   "cell_type": "code",
   "execution_count": 7,
   "metadata": {},
   "outputs": [
    {
     "data": {
      "text/html": [
       "<div>\n",
       "<style scoped>\n",
       "    .dataframe tbody tr th:only-of-type {\n",
       "        vertical-align: middle;\n",
       "    }\n",
       "\n",
       "    .dataframe tbody tr th {\n",
       "        vertical-align: top;\n",
       "    }\n",
       "\n",
       "    .dataframe thead th {\n",
       "        text-align: right;\n",
       "    }\n",
       "</style>\n",
       "<table border=\"1\" class=\"dataframe\">\n",
       "  <thead>\n",
       "    <tr style=\"text-align: right;\">\n",
       "      <th></th>\n",
       "      <th>PRECTOT</th>\n",
       "      <th>PS</th>\n",
       "      <th>QV2M</th>\n",
       "      <th>T2M</th>\n",
       "      <th>T2MDEW</th>\n",
       "      <th>T2MWET</th>\n",
       "      <th>T2M_MAX</th>\n",
       "      <th>T2M_MIN</th>\n",
       "      <th>T2M_RANGE</th>\n",
       "      <th>TS</th>\n",
       "      <th>WS10M</th>\n",
       "      <th>WS10M_MAX</th>\n",
       "      <th>WS10M_MIN</th>\n",
       "      <th>WS10M_RANGE</th>\n",
       "      <th>WS50M</th>\n",
       "      <th>WS50M_MAX</th>\n",
       "      <th>WS50M_MIN</th>\n",
       "      <th>WS50M_RANGE</th>\n",
       "      <th>score</th>\n",
       "    </tr>\n",
       "  </thead>\n",
       "  <tbody>\n",
       "    <tr>\n",
       "      <th>0</th>\n",
       "      <td>0.196000</td>\n",
       "      <td>100.487000</td>\n",
       "      <td>5.158000</td>\n",
       "      <td>7.692000</td>\n",
       "      <td>3.782000</td>\n",
       "      <td>3.810000</td>\n",
       "      <td>13.969000</td>\n",
       "      <td>3.687000</td>\n",
       "      <td>10.283000</td>\n",
       "      <td>7.392000</td>\n",
       "      <td>2.666000</td>\n",
       "      <td>4.207000</td>\n",
       "      <td>1.488000</td>\n",
       "      <td>2.719000</td>\n",
       "      <td>4.001000</td>\n",
       "      <td>5.938000</td>\n",
       "      <td>2.173000</td>\n",
       "      <td>3.766000</td>\n",
       "      <td>1.0</td>\n",
       "    </tr>\n",
       "    <tr>\n",
       "      <th>1</th>\n",
       "      <td>1.709412</td>\n",
       "      <td>100.257059</td>\n",
       "      <td>5.701765</td>\n",
       "      <td>8.592941</td>\n",
       "      <td>5.245294</td>\n",
       "      <td>5.262941</td>\n",
       "      <td>14.011176</td>\n",
       "      <td>4.871765</td>\n",
       "      <td>9.138824</td>\n",
       "      <td>8.114706</td>\n",
       "      <td>2.854706</td>\n",
       "      <td>4.770588</td>\n",
       "      <td>1.411765</td>\n",
       "      <td>3.357647</td>\n",
       "      <td>4.334118</td>\n",
       "      <td>6.690000</td>\n",
       "      <td>2.225294</td>\n",
       "      <td>4.465294</td>\n",
       "      <td>1.0</td>\n",
       "    </tr>\n",
       "    <tr>\n",
       "      <th>2</th>\n",
       "      <td>5.068333</td>\n",
       "      <td>100.105833</td>\n",
       "      <td>6.274583</td>\n",
       "      <td>9.290833</td>\n",
       "      <td>6.589167</td>\n",
       "      <td>6.601667</td>\n",
       "      <td>14.182917</td>\n",
       "      <td>5.894167</td>\n",
       "      <td>8.288750</td>\n",
       "      <td>8.776250</td>\n",
       "      <td>2.808750</td>\n",
       "      <td>4.680000</td>\n",
       "      <td>1.409583</td>\n",
       "      <td>3.270417</td>\n",
       "      <td>4.319583</td>\n",
       "      <td>6.540833</td>\n",
       "      <td>2.277500</td>\n",
       "      <td>4.263333</td>\n",
       "      <td>0.0</td>\n",
       "    </tr>\n",
       "    <tr>\n",
       "      <th>3</th>\n",
       "      <td>4.312581</td>\n",
       "      <td>100.076129</td>\n",
       "      <td>6.227097</td>\n",
       "      <td>9.242903</td>\n",
       "      <td>6.543226</td>\n",
       "      <td>6.553871</td>\n",
       "      <td>14.189677</td>\n",
       "      <td>5.745484</td>\n",
       "      <td>8.443871</td>\n",
       "      <td>8.753548</td>\n",
       "      <td>2.783871</td>\n",
       "      <td>4.532903</td>\n",
       "      <td>1.407419</td>\n",
       "      <td>3.124839</td>\n",
       "      <td>4.286129</td>\n",
       "      <td>6.458065</td>\n",
       "      <td>2.277419</td>\n",
       "      <td>4.180968</td>\n",
       "      <td>0.0</td>\n",
       "    </tr>\n",
       "    <tr>\n",
       "      <th>4</th>\n",
       "      <td>3.762632</td>\n",
       "      <td>100.067105</td>\n",
       "      <td>6.358947</td>\n",
       "      <td>9.557368</td>\n",
       "      <td>6.895263</td>\n",
       "      <td>6.903947</td>\n",
       "      <td>14.776316</td>\n",
       "      <td>5.984211</td>\n",
       "      <td>8.791579</td>\n",
       "      <td>8.990000</td>\n",
       "      <td>2.743158</td>\n",
       "      <td>4.506579</td>\n",
       "      <td>1.361316</td>\n",
       "      <td>3.144474</td>\n",
       "      <td>4.222368</td>\n",
       "      <td>6.416842</td>\n",
       "      <td>2.210263</td>\n",
       "      <td>4.207105</td>\n",
       "      <td>0.0</td>\n",
       "    </tr>\n",
       "  </tbody>\n",
       "</table>\n",
       "</div>"
      ],
      "text/plain": [
       "    PRECTOT          PS      QV2M       T2M    T2MDEW    T2MWET    T2M_MAX  \\\n",
       "0  0.196000  100.487000  5.158000  7.692000  3.782000  3.810000  13.969000   \n",
       "1  1.709412  100.257059  5.701765  8.592941  5.245294  5.262941  14.011176   \n",
       "2  5.068333  100.105833  6.274583  9.290833  6.589167  6.601667  14.182917   \n",
       "3  4.312581  100.076129  6.227097  9.242903  6.543226  6.553871  14.189677   \n",
       "4  3.762632  100.067105  6.358947  9.557368  6.895263  6.903947  14.776316   \n",
       "\n",
       "    T2M_MIN  T2M_RANGE        TS     WS10M  WS10M_MAX  WS10M_MIN  WS10M_RANGE  \\\n",
       "0  3.687000  10.283000  7.392000  2.666000   4.207000   1.488000     2.719000   \n",
       "1  4.871765   9.138824  8.114706  2.854706   4.770588   1.411765     3.357647   \n",
       "2  5.894167   8.288750  8.776250  2.808750   4.680000   1.409583     3.270417   \n",
       "3  5.745484   8.443871  8.753548  2.783871   4.532903   1.407419     3.124839   \n",
       "4  5.984211   8.791579  8.990000  2.743158   4.506579   1.361316     3.144474   \n",
       "\n",
       "      WS50M  WS50M_MAX  WS50M_MIN  WS50M_RANGE  score  \n",
       "0  4.001000   5.938000   2.173000     3.766000    1.0  \n",
       "1  4.334118   6.690000   2.225294     4.465294    1.0  \n",
       "2  4.319583   6.540833   2.277500     4.263333    0.0  \n",
       "3  4.286129   6.458065   2.277419     4.180968    0.0  \n",
       "4  4.222368   6.416842   2.210263     4.207105    0.0  "
      ]
     },
     "execution_count": 7,
     "metadata": {},
     "output_type": "execute_result"
    }
   ],
   "source": [
    "s.head()"
   ]
  },
  {
   "cell_type": "code",
   "execution_count": 8,
   "metadata": {},
   "outputs": [
    {
     "data": {
      "text/html": [
       "<div>\n",
       "<style scoped>\n",
       "    .dataframe tbody tr th:only-of-type {\n",
       "        vertical-align: middle;\n",
       "    }\n",
       "\n",
       "    .dataframe tbody tr th {\n",
       "        vertical-align: top;\n",
       "    }\n",
       "\n",
       "    .dataframe thead th {\n",
       "        text-align: right;\n",
       "    }\n",
       "</style>\n",
       "<table border=\"1\" class=\"dataframe\">\n",
       "  <thead>\n",
       "    <tr style=\"text-align: right;\">\n",
       "      <th></th>\n",
       "      <th>score</th>\n",
       "    </tr>\n",
       "  </thead>\n",
       "  <tbody>\n",
       "    <tr>\n",
       "      <th>0</th>\n",
       "      <td>1.0</td>\n",
       "    </tr>\n",
       "    <tr>\n",
       "      <th>1</th>\n",
       "      <td>1.0</td>\n",
       "    </tr>\n",
       "    <tr>\n",
       "      <th>2</th>\n",
       "      <td>0.0</td>\n",
       "    </tr>\n",
       "    <tr>\n",
       "      <th>3</th>\n",
       "      <td>0.0</td>\n",
       "    </tr>\n",
       "    <tr>\n",
       "      <th>4</th>\n",
       "      <td>0.0</td>\n",
       "    </tr>\n",
       "  </tbody>\n",
       "</table>\n",
       "</div>"
      ],
      "text/plain": [
       "   score\n",
       "0    1.0\n",
       "1    1.0\n",
       "2    0.0\n",
       "3    0.0\n",
       "4    0.0"
      ]
     },
     "execution_count": 8,
     "metadata": {},
     "output_type": "execute_result"
    }
   ],
   "source": [
    "y = pd.DataFrame(s['score'])\n",
    "y.head()"
   ]
  },
  {
   "cell_type": "code",
   "execution_count": 9,
   "metadata": {},
   "outputs": [
    {
     "name": "stdout",
     "output_type": "stream",
     "text": [
      "   D_0.0  D_1.0\n",
      "0      0      1\n",
      "1      0      1\n",
      "2      1      0\n",
      "3      1      0\n",
      "4      1      0\n"
     ]
    }
   ],
   "source": [
    "y_l = pd.get_dummies(y['score'], prefix='D')\n",
    "print(y_l.head())"
   ]
  },
  {
   "cell_type": "code",
   "execution_count": 19,
   "metadata": {},
   "outputs": [],
   "source": [
    "features = s.drop(['score'],axis=1)\n",
    "labels = s['score']\n",
    "feature_list = list(s.columns)\n",
    "features = np.array(features)"
   ]
  },
  {
   "cell_type": "code",
   "execution_count": 20,
   "metadata": {},
   "outputs": [
    {
     "data": {
      "text/plain": [
       "0        1.0\n",
       "1        1.0\n",
       "2        0.0\n",
       "3        0.0\n",
       "4        0.0\n",
       "        ... \n",
       "63563    1.0\n",
       "63564    1.0\n",
       "63565    1.0\n",
       "63566    1.0\n",
       "63567    1.0\n",
       "Name: score, Length: 63568, dtype: float64"
      ]
     },
     "execution_count": 20,
     "metadata": {},
     "output_type": "execute_result"
    }
   ],
   "source": [
    "labels"
   ]
  },
  {
   "cell_type": "code",
   "execution_count": 21,
   "metadata": {},
   "outputs": [],
   "source": [
    "from sklearn.model_selection import train_test_split\n",
    "train_features, test_features, train_labels, test_labels = train_test_split(features, labels, test_size = 0.3, random_state = 42)"
   ]
  },
  {
   "cell_type": "code",
   "execution_count": 22,
   "metadata": {},
   "outputs": [
    {
     "data": {
      "text/plain": [
       "((44497, 18), (19071, 18), (44497,), (19071,))"
      ]
     },
     "execution_count": 22,
     "metadata": {},
     "output_type": "execute_result"
    }
   ],
   "source": [
    "train_features.shape, test_features.shape, train_labels.shape, test_labels.shape"
   ]
  },
  {
   "cell_type": "code",
   "execution_count": 23,
   "metadata": {},
   "outputs": [],
   "source": [
    "from sklearn.ensemble import RandomForestRegressor\n",
    "rf = RandomForestRegressor(n_estimators = 1000, random_state = 42)\n",
    "rf.fit(train_features, train_labels);"
   ]
  },
  {
   "cell_type": "code",
   "execution_count": 24,
   "metadata": {},
   "outputs": [
    {
     "name": "stdout",
     "output_type": "stream",
     "text": [
      "Mean Absolute Error: 0.27 degrees.\n"
     ]
    }
   ],
   "source": [
    "predictions = rf.predict(test_features)\n",
    "# Calculate the absolute errors\n",
    "errors = abs(predictions - test_labels)\n",
    "# Print out the mean absolute error (mae)\n",
    "print('Mean Absolute Error:', round(np.mean(errors), 2), 'degrees.')\n",
    "    "
   ]
  },
  {
   "cell_type": "code",
   "execution_count": 26,
   "metadata": {},
   "outputs": [
    {
     "data": {
      "text/plain": [
       "0.8547532903361125"
      ]
     },
     "execution_count": 26,
     "metadata": {},
     "output_type": "execute_result"
    }
   ],
   "source": [
    "from sklearn.metrics import accuracy_score\n",
    "accuracy_score(test_labels, predictions.round(), sample_weight=None)"
   ]
  },
  {
   "cell_type": "code",
   "execution_count": 27,
   "metadata": {},
   "outputs": [
    {
     "data": {
      "text/html": [
       "<div>\n",
       "<style scoped>\n",
       "    .dataframe tbody tr th:only-of-type {\n",
       "        vertical-align: middle;\n",
       "    }\n",
       "\n",
       "    .dataframe tbody tr th {\n",
       "        vertical-align: top;\n",
       "    }\n",
       "\n",
       "    .dataframe thead th {\n",
       "        text-align: right;\n",
       "    }\n",
       "</style>\n",
       "<table border=\"1\" class=\"dataframe\">\n",
       "  <thead>\n",
       "    <tr style=\"text-align: right;\">\n",
       "      <th></th>\n",
       "      <th>0</th>\n",
       "    </tr>\n",
       "  </thead>\n",
       "  <tbody>\n",
       "    <tr>\n",
       "      <th>0</th>\n",
       "      <td>0.478333</td>\n",
       "    </tr>\n",
       "    <tr>\n",
       "      <th>1</th>\n",
       "      <td>0.232000</td>\n",
       "    </tr>\n",
       "    <tr>\n",
       "      <th>2</th>\n",
       "      <td>0.489000</td>\n",
       "    </tr>\n",
       "    <tr>\n",
       "      <th>3</th>\n",
       "      <td>0.632000</td>\n",
       "    </tr>\n",
       "    <tr>\n",
       "      <th>4</th>\n",
       "      <td>0.751000</td>\n",
       "    </tr>\n",
       "    <tr>\n",
       "      <th>...</th>\n",
       "      <td>...</td>\n",
       "    </tr>\n",
       "    <tr>\n",
       "      <th>19066</th>\n",
       "      <td>0.659000</td>\n",
       "    </tr>\n",
       "    <tr>\n",
       "      <th>19067</th>\n",
       "      <td>0.884333</td>\n",
       "    </tr>\n",
       "    <tr>\n",
       "      <th>19068</th>\n",
       "      <td>0.203000</td>\n",
       "    </tr>\n",
       "    <tr>\n",
       "      <th>19069</th>\n",
       "      <td>0.167000</td>\n",
       "    </tr>\n",
       "    <tr>\n",
       "      <th>19070</th>\n",
       "      <td>0.649000</td>\n",
       "    </tr>\n",
       "  </tbody>\n",
       "</table>\n",
       "<p>19071 rows × 1 columns</p>\n",
       "</div>"
      ],
      "text/plain": [
       "              0\n",
       "0      0.478333\n",
       "1      0.232000\n",
       "2      0.489000\n",
       "3      0.632000\n",
       "4      0.751000\n",
       "...         ...\n",
       "19066  0.659000\n",
       "19067  0.884333\n",
       "19068  0.203000\n",
       "19069  0.167000\n",
       "19070  0.649000\n",
       "\n",
       "[19071 rows x 1 columns]"
      ]
     },
     "execution_count": 27,
     "metadata": {},
     "output_type": "execute_result"
    }
   ],
   "source": [
    "f = pd.DataFrame(predictions)\n",
    "f"
   ]
  },
  {
   "cell_type": "code",
   "execution_count": 34,
   "metadata": {},
   "outputs": [
    {
     "name": "stdout",
     "output_type": "stream",
     "text": [
      "Requirement already satisfied: scikit-multilearn in c:\\users\\shahb\\anaconda3\\lib\\site-packages (0.2.0)\n",
      "Note: you may need to restart the kernel to use updated packages.\n"
     ]
    }
   ],
   "source": [
    "pip install scikit-multilearn\n"
   ]
  },
  {
   "cell_type": "code",
   "execution_count": 35,
   "metadata": {},
   "outputs": [],
   "source": [
    "from skmultilearn.problem_transform import BinaryRelevance\n",
    "from sklearn.naive_bayes import GaussianNB\n",
    "\n",
    "# initialize binary relevance multi-label classifier\n",
    "# with a gaussian naive bayes base classifier\n",
    "classifier = BinaryRelevance(GaussianNB())\n",
    "\n",
    "# train\n",
    "classifier.fit(train_features, train_labels)\n",
    "\n",
    "# predict\n",
    "predictions = classifier.predict(test_features)"
   ]
  },
  {
   "cell_type": "code",
   "execution_count": 36,
   "metadata": {},
   "outputs": [
    {
     "data": {
      "text/plain": [
       "0.6345236222536836"
      ]
     },
     "execution_count": 36,
     "metadata": {},
     "output_type": "execute_result"
    }
   ],
   "source": [
    "accuracy_score(test_labels,predictions)"
   ]
  },
  {
   "cell_type": "code",
   "execution_count": null,
   "metadata": {},
   "outputs": [],
   "source": []
  }
 ],
 "metadata": {
  "kernelspec": {
   "display_name": "Python 3",
   "language": "python",
   "name": "python3"
  },
  "language_info": {
   "codemirror_mode": {
    "name": "ipython",
    "version": 3
   },
   "file_extension": ".py",
   "mimetype": "text/x-python",
   "name": "python",
   "nbconvert_exporter": "python",
   "pygments_lexer": "ipython3",
   "version": "3.8.3"
  }
 },
 "nbformat": 4,
 "nbformat_minor": 4
}
